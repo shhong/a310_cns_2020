{
 "cells": [
  {
   "cell_type": "markdown",
   "metadata": {},
   "source": [
    "# Useful references\n",
    "\n",
    "## Python + Numpy + Matplotlib + etc.\n",
    "\n",
    "* Python Numpy Tutorial: http://cs231n.github.io/python-numpy-tutorial/\n",
    "* Computational Statistics in Python: https://people.duke.edu/~ccc14/sta-663/\n",
    "* Numpy for MATLAB users: https://docs.scipy.org/doc/numpy-dev/user/numpy-for-matlab-users.html\n",
    "* MATLAB synonymous commands in Python/NumPy: http://mathesaurus.sourceforge.net/\n",
    "\n",
    "## NEURON (with Python)\n",
    "* NEURON documentation: https://www.neuron.yale.edu/neuron/static/py_doc/index.html\n",
    "* NEURON + Python tutorial: https://neuron.yale.edu/neuron/static/docs/neuronpython/index.html\n",
    "\n",
    "## NMODL\n",
    "* NEURON Extension to NMODL: https://www.neuron.yale.edu/neuron/static/py_doc/modelspec/programmatic/mechanisms/nmodl2.html\n",
    "* NMODL: https://www.neuron.yale.edu/neuron/static/py_doc/modelspec/programmatic/mechanisms/nmodl.html#nmodl\n",
    "\n",
    "\n"
   ]
  },
  {
   "cell_type": "markdown",
   "metadata": {},
   "source": [
    "# 1. Using custom mechanisms\n",
    "\n",
    "Here we demonstrate how to compile custom active mechanisms. Most models of membrane/intracellular mechanisms are written in the NMODL language and the files should have an extension \".mod\". In order to use those mod files (therefore active mechanisms), you first need to compile them, and, if necessary, direct NEURON to load the compiled library.\n",
    "\n",
    "Here our first example is `MorrisLecar.mod`, which implements the Morris-Lecar ion channels, used in Rinzel and Ermentrout. If you look into the file, it looks like:\n",
    "\n",
    "```\n",
    "TITLE Morris-Lecar spiking dynamics\n",
    "\n",
    "....\n",
    "\n",
    "NEURON {\n",
    "  SUFFIX ml\n",
    "  USEION k READ ek WRITE ik\n",
    "  USEION na READ ena WRITE ina\n",
    "  NONSPECIFIC_CURRENT il\n",
    "  RANGE gnabar, gkbar, gleak, el, ina, ik, il, w, winit\n",
    "  RANGE phi, betam, gammam, betaw, gammaw\n",
    "  THREADSAFE minf, winf, tauw\n",
    "}\n",
    "\n",
    ".....\n",
    "\n",
    "```\n",
    "\n",
    "The first part contains important information: `ml`, after `SUFFIX`, is the name of this mechanism in NEURON, just as `pas` and `hh` that we have seen before. `USEION` tells you which ions are used. In particular, it writes `ik` and `ina`, which correspond to the K+ and Na+ current. `RANGE` specifies the variables that you can read and write in NEURON.\n",
    "\n",
    "To compile this, run `nrnivmodl` in the terminal or simply "
   ]
  },
  {
   "cell_type": "code",
   "execution_count": null,
   "metadata": {},
   "outputs": [],
   "source": [
    "%%bash\n",
    "\n",
    "cd mod.files\n",
    "nrnivmodl"
   ]
  },
  {
   "cell_type": "markdown",
   "metadata": {},
   "source": [
    "Now let's create a single compartment cell,"
   ]
  },
  {
   "cell_type": "code",
   "execution_count": null,
   "metadata": {},
   "outputs": [],
   "source": [
    "from neuron import h, gui\n",
    "from neuron import load_mechanisms\n",
    "\n",
    "import numpy as np\n",
    "import matplotlib.pyplot as plt\n",
    "load_mechanisms('./mod.files')"
   ]
  },
  {
   "cell_type": "code",
   "execution_count": null,
   "metadata": {},
   "outputs": [],
   "source": [
    "soma = h.Section(name=\"soma\")\n",
    "soma.L = 20\n",
    "soma.diam = 20\n",
    "\n",
    "ic = h.IClamp(soma(0.5))"
   ]
  },
  {
   "cell_type": "code",
   "execution_count": null,
   "metadata": {},
   "outputs": [],
   "source": [
    "soma.insert(\"hh2\")\n",
    "soma.psection()"
   ]
  },
  {
   "cell_type": "code",
   "execution_count": null,
   "metadata": {},
   "outputs": [],
   "source": [
    "h.tstop = 300\n",
    "\n",
    "ic.delay = 50\n",
    "ic.dur = 200\n",
    "ic.amp = 0.01"
   ]
  },
  {
   "cell_type": "code",
   "execution_count": null,
   "metadata": {},
   "outputs": [],
   "source": [
    "h.celsius = 35\n",
    "\n",
    "dt_rec = 0.1\n",
    "t = h.Vector()\n",
    "v = h.Vector()\n",
    "v.record(soma(0.5)._ref_v, dt_rec)\n",
    "t.record(h._ref_t, 0.1)\n",
    "\n",
    "# nc = h.NetCon(soma(0.5)._ref_v, None, 0, 0, 1)\n",
    "# tspike = h.Vector()\n",
    "# nc.record(tspike)\n",
    "\n",
    "h.run()"
   ]
  },
  {
   "cell_type": "code",
   "execution_count": null,
   "metadata": {},
   "outputs": [],
   "source": [
    "_, ax = plt.subplots()\n",
    "\n",
    "ax.plot(t, v)\n",
    "ax.set(xlabel=\"time (ms)\", ylabel = \"v (mv)\")\n",
    "\n",
    "print(tspike.as_numpy())"
   ]
  },
  {
   "cell_type": "markdown",
   "metadata": {},
   "source": [
    "## Pyramidal cell example\n",
    "\n",
    "Please make sure that you reset the kernel at this point:"
   ]
  },
  {
   "cell_type": "code",
   "execution_count": null,
   "metadata": {},
   "outputs": [],
   "source": [
    "from neuron import h, gui\n",
    "from neuron import load_mechanisms\n",
    "import libcell\n",
    "\n",
    "import numpy as np\n",
    "import matplotlib.pyplot as plt\n",
    "load_mechanisms('./mod.files')\n"
   ]
  },
  {
   "cell_type": "code",
   "execution_count": null,
   "metadata": {},
   "outputs": [],
   "source": [
    "cell = libcell.L23()"
   ]
  },
  {
   "cell_type": "code",
   "execution_count": null,
   "metadata": {},
   "outputs": [],
   "source": [
    "libcell.init_active(cell, axon=True, soma=True, dend=True, dendNa=True, dendCa=True)"
   ]
  },
  {
   "cell_type": "code",
   "execution_count": null,
   "metadata": {},
   "outputs": [],
   "source": [
    "cell.soma.psection()"
   ]
  },
  {
   "cell_type": "code",
   "execution_count": null,
   "metadata": {},
   "outputs": [],
   "source": [
    "ic = h.IClamp(cell.soma(0.5))"
   ]
  },
  {
   "cell_type": "code",
   "execution_count": null,
   "metadata": {},
   "outputs": [],
   "source": [
    "h.tstop = 300\n",
    "\n",
    "ic.delay = 50\n",
    "ic.dur = 200\n",
    "ic.amp = 0.1\n",
    "\n",
    "\n",
    "dt_rec = 0.1\n",
    "t = h.Vector()\n",
    "v = h.Vector()\n",
    "v.record(cell.axon(1)._ref_v, dt_rec)\n",
    "t.record(h._ref_t, 0.1)\n",
    "\n",
    "h.v_init = -75\n",
    "h.run()"
   ]
  },
  {
   "cell_type": "code",
   "execution_count": null,
   "metadata": {},
   "outputs": [],
   "source": [
    "_, ax = plt.subplots()\n",
    "\n",
    "ax.plot(t, v)\n",
    "ax.set(xlabel=\"time (ms)\", ylabel = \"v (mv)\")"
   ]
  },
  {
   "cell_type": "markdown",
   "metadata": {},
   "source": [
    "## Adding synapses\n",
    "\n",
    "Here we add synapses to the cell,"
   ]
  },
  {
   "cell_type": "code",
   "execution_count": null,
   "metadata": {},
   "outputs": [],
   "source": [
    "def add_AMPAsyns(model, locs, stims, gmax=1, tau1=0.5, tau2=1):\n",
    "    model.AMPAlist = []\n",
    "    model.ncAMPAlist = []\n",
    "    gmax = gmax/1000.   # Set in nS and convert to muS\n",
    "    for loc, stim in zip(locs, stims):\n",
    "        AMPA = h.Exp2Syn(float(loc[1]), sec=model.dends[int(loc[0])])\n",
    "        AMPA.tau1 = tau1\n",
    "        AMPA.tau2 = tau2\n",
    "        NC = h.NetCon(stim, AMPA, 0, 0, gmax)\n",
    "        model.AMPAlist.append(AMPA)\n",
    "        model.ncAMPAlist.append(NC)\n",
    "\n",
    "        \n",
    "def add_NMDAsyns(model, locs, stims, gmax=1, tau1=2, tau2=20):\n",
    "    model.NMDAlist = []\n",
    "    model.ncNMDAlist = []\n",
    "    gmax = gmax/1000.   # Set in nS and convert to muS\n",
    "    for loc, stim in zip(locs, stims):\n",
    "        NMDA = h.Exp2SynNMDA(float(loc[1]), sec=model.dends[int(loc[0])])\n",
    "        NMDA.tau1 = tau1\n",
    "        NMDA.tau2 = tau2\n",
    "        NC = h.NetCon(stim, NMDA, 0, 0, gmax)\n",
    "        x = float(loc[1])\n",
    "        model.NMDAlist.append(NMDA)\n",
    "        model.ncNMDAlist.append(NC)\n",
    "\n",
    "        \n",
    "def add_GABAsyns(model, locs, stims, gmax=0.5, tau1=0.1, tau2=4, rev=-80):\n",
    "    model.GABAlist = []\n",
    "    model.ncGABAlist = []\n",
    "    gmax = gmax/1000.   # Set in nS and convert to muS\n",
    "    for loc, stim in zip(locs, stims):\n",
    "        GABA = h.Exp2Syn(float(loc[1]), sec=model.dends[int(loc[0])])\n",
    "        GABA.tau1 = tau1\n",
    "        GABA.tau2 = tau2\n",
    "        GABA.e = rev\n",
    "        NC = h.NetCon(stim, GABA, 0, 0, gmax)\n",
    "        model.GABAlist.append(GABA)\n",
    "        model.ncGABAlist.append(NC)"
   ]
  },
  {
   "cell_type": "markdown",
   "metadata": {},
   "source": [
    "The first synapse will be inserted at cell.dend[0] and stimulated by an artificial spike generator."
   ]
  },
  {
   "cell_type": "code",
   "execution_count": null,
   "metadata": {},
   "outputs": [],
   "source": [
    "locs = [[0, 0.5]]\n",
    "\n",
    "fexc = 10\n",
    "exc_stims = []\n",
    "for loc in locs:\n",
    "    exc_stims.append(h.NetStimFD())\n",
    "    exc_stims[-1].noise = 0 # maximally noisy stimulus\n",
    "    exc_stims[-1].start = 150 # start from 0\n",
    "    exc_stims[-1].duration = h.tstop\n",
    "    exc_stims[-1].interval = 1000./fexc\n",
    "\n",
    "add_AMPAsyns(cell, locs, exc_stims)\n",
    "# add_NMDAsyns(cell, locs, exc_stims)\n"
   ]
  },
  {
   "cell_type": "code",
   "execution_count": null,
   "metadata": {},
   "outputs": [],
   "source": [
    "h.tstop = 300\n",
    "\n",
    "ic.delay = 50\n",
    "ic.dur = 200\n",
    "ic.amp = 0.0\n",
    "\n",
    "dt_rec = 0.1\n",
    "t = h.Vector()\n",
    "v = h.Vector()\n",
    "v.record(cell.soma(0.5)._ref_v, dt_rec)\n",
    "t.record(h._ref_t, 0.1)\n",
    "\n",
    "h.v_init = -75\n",
    "h.run()\n",
    "\n",
    "_, ax = plt.subplots()\n",
    "\n",
    "ax.plot(t, v)\n",
    "ax.set(xlabel=\"time (ms)\", ylabel = \"v (mv)\")"
   ]
  },
  {
   "cell_type": "markdown",
   "metadata": {},
   "source": [
    "Now let's try many more synapses, inserted at random locations!"
   ]
  },
  {
   "cell_type": "code",
   "execution_count": null,
   "metadata": {},
   "outputs": [],
   "source": [
    "def genRandomLocs(model, nsyn):\n",
    "    locs = []\n",
    "    for s in np.arange(0,nsyn):\n",
    "        dend = np.random.randint(low=0, high=len(model.dends))\n",
    "        pos = np.random.uniform()\n",
    "        locs.append([dend, pos])\n",
    "    return locs"
   ]
  },
  {
   "cell_type": "code",
   "execution_count": null,
   "metadata": {},
   "outputs": [],
   "source": [
    "# 100 excitatory and 20 inhibitory synapses\n",
    "n_exc = 100\n",
    "n_inh = 20\n",
    "\n",
    "exc_locs = genRandomLocs(cell, n_exc)\n",
    "inh_locs = genRandomLocs(cell, n_inh)\n",
    "inh_locs"
   ]
  },
  {
   "cell_type": "code",
   "execution_count": null,
   "metadata": {},
   "outputs": [],
   "source": [
    "fexc = 10\n",
    "exc_stims = []\n",
    "for loc in exc_locs:\n",
    "    exc_stims.append(h.NetStimFD())\n",
    "    exc_stims[-1].noise = 1 # maximally noisy stimulus\n",
    "    exc_stims[-1].start = 0 # start from 0\n",
    "    exc_stims[-1].duration = h.tstop\n",
    "    exc_stims[-1].interval = 1000./fexc\n",
    "\n",
    "add_AMPAsyns(cell, locs, exc_stims)\n",
    "add_NMDAsyns(cell, locs, exc_stims)\n",
    "\n",
    "finh = 40\n",
    "inh_stims = []\n",
    "for loc in inh_locs:\n",
    "    inh_stims.append(h.NetStimFD())\n",
    "    inh_stims[-1].noise = 1 # maximally noisy stimulus\n",
    "    inh_stims[-1].start = 0 # start from 0\n",
    "    inh_stims[-1].duration = h.tstop\n",
    "    inh_stims[-1].interval = 1000./fexc\n",
    "\n",
    "add_AMPAsyns(cell, exc_locs, exc_stims)\n",
    "add_NMDAsyns(cell, exc_locs, exc_stims)\n",
    "add_GABAsyns(cell, inh_locs, inh_stims)\n"
   ]
  },
  {
   "cell_type": "markdown",
   "metadata": {},
   "source": [
    "# 2. Cell objects\n",
    "\n",
    "**Make sure that you reset the kernel at this point.** \n",
    "\n",
    "In Python, you can define custom data types that you can use to organize data and related operations. For example, so far we have worked with cell models in NEURON, which have common attributes and operations as:\n",
    "\n",
    "1. Sections and segments,\n",
    "2. Combining sections to define the morphology of a cell,\n",
    "3. Active mechanisms and inserting them,\n",
    "4. Synapses and connecting them to other cells, etc.\n",
    "\n",
    "\n",
    "We can collect these into a cell object as follows:"
   ]
  },
  {
   "cell_type": "code",
   "execution_count": null,
   "metadata": {},
   "outputs": [],
   "source": [
    "from neuron import h, gui\n",
    "from neuron import load_mechanisms\n",
    "\n",
    "import numpy as np\n",
    "import matplotlib.pyplot as plt\n",
    "load_mechanisms('./mod.files')\n",
    "\n",
    "\n",
    "class Cell:\n",
    "    \"\"\" Cell class\"\"\"\n",
    "    \n",
    "    # When a cell object is created this function is called first.\n",
    "    # Note \"self\" in definition\n",
    "    def __init__(self):\n",
    "        \n",
    "        self.synlist = []      # list of synapses in this cell\n",
    "\n",
    "        # here are some operations to create a cell\n",
    "        self.create_sections()\n",
    "        self.build_topology()\n",
    "        self.build_subsets()\n",
    "        self.define_geometry()\n",
    "        self.define_biophysics()\n",
    "        self.create_synapses()\n",
    "\n",
    "    # At this stage, we leave most of them unimplemented\n",
    "    # This technique is called \"the Template Method pattern\" (https://sourcemaking.com/design_patterns/template_method)\n",
    "    def create_sections(self):\n",
    "        raise NotImplementedError(\"create_section() is not implemented.\")\n",
    "\n",
    "    def build_topology(self):\n",
    "        raise NotImplementedError(\"build_topology() is not implemented.\")\n",
    "    \n",
    "    def build_subsets(self):\n",
    "        raise NotImplementedError(\"build_subsets() is not implemented.\")\n",
    "\n",
    "    def define_geometry(self):\n",
    "        raise NotImplementedError(\"define_geometry() is not implemented.\")\n",
    "\n",
    "    def define_biophysics(self):\n",
    "        raise NotImplementedError(\"define_biophysics() is not implemented.\")\n",
    "\n",
    "    def create_synapses(self):\n",
    "        raise NotImplementedError(\"create_synapses() is not implemented.\")\n",
    "    \n",
    "    # Here are something that will be commonly used by every cell\n",
    "    # built based on this template\n",
    "    \n",
    "    def connect2target(self, target, thresh=0):\n",
    "        \"\"\"Make a new NetCon with this cell's membrane\n",
    "        potential at the soma as the source (i.e. the spike detector)\n",
    "        onto the target passed in (i.e. a synapse on a cell).\n",
    "        Subclasses may override with other spike detectors.\"\"\"\n",
    "        nc = h.NetCon(self.soma(1)._ref_v, target, sec = self.soma)\n",
    "        nc.threshold = thresh\n",
    "        return nc\n"
   ]
  },
  {
   "cell_type": "code",
   "execution_count": null,
   "metadata": {},
   "outputs": [],
   "source": [
    "cell1 = Cell()"
   ]
  },
  {
   "cell_type": "markdown",
   "metadata": {},
   "source": [
    "It will generate an error whenever you fail to provide any necessary step to define a proper cell. To implement those steps, we _subclass_ `Cell` as:"
   ]
  },
  {
   "cell_type": "code",
   "execution_count": null,
   "metadata": {},
   "outputs": [],
   "source": [
    "class MorrisLecar(Cell):\n",
    "    \"\"\"Single compartment passive neuron\"\"\"\n",
    "    \n",
    "    def create_sections(self):\n",
    "        \"\"\"create a soma\"\"\"\n",
    "        self.soma = h.Section(name=\"soma\", cell=self)\n",
    "\n",
    "    def build_topology(self):\n",
    "        pass # single compartment\n",
    "    \n",
    "    def build_subsets(self):\n",
    "        pass # single compartment\n",
    "    \n",
    "    def define_geometry(self):\n",
    "        self.soma.L = 15\n",
    "        self.soma.diam = 15\n",
    "\n",
    "    def define_biophysics(self):\n",
    "        self.soma.insert('ml')\n",
    "        \n",
    "    def create_synapses(self):\n",
    "        self.synlist.append(h.Exp2Syn(self.soma(0.5))) # Excitatory\n",
    "        self.synlist[-1].tau2 = 3.0\n",
    "        \n",
    "        self.synlist.append(h.Exp2Syn(self.soma(0.5))) # Inhibitory     \n",
    "        self.synlist[-1].e = -75\n",
    "        self.synlist[-1].tau1 = 1.0\n",
    "        self.synlist[-1].tau2 = 7.0\n",
    "    "
   ]
  },
  {
   "cell_type": "code",
   "execution_count": null,
   "metadata": {},
   "outputs": [],
   "source": [
    "cell1.soma.psection()"
   ]
  }
 ],
 "metadata": {
  "kernel_info": {
   "name": "python3"
  },
  "kernelspec": {
   "display_name": "Python 3",
   "language": "python",
   "name": "python3"
  },
  "language_info": {
   "codemirror_mode": {
    "name": "ipython",
    "version": 3
   },
   "file_extension": ".py",
   "mimetype": "text/x-python",
   "name": "python",
   "nbconvert_exporter": "python",
   "pygments_lexer": "ipython3",
   "version": "3.7.4"
  },
  "nteract": {
   "version": "0.12.3"
  }
 },
 "nbformat": 4,
 "nbformat_minor": 4
}
