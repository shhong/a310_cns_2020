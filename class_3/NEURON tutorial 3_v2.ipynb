{
 "cells": [
  {
   "cell_type": "markdown",
   "metadata": {},
   "source": [
    "# Useful references\n",
    "\n",
    "## Python + Numpy + Matplotlib + etc.\n",
    "\n",
    "* Python Numpy Tutorial: http://cs231n.github.io/python-numpy-tutorial/\n",
    "* Computational Statistics in Python: https://people.duke.edu/~ccc14/sta-663/\n",
    "* Numpy for MATLAB users: https://docs.scipy.org/doc/numpy-dev/user/numpy-for-matlab-users.html\n",
    "* MATLAB synonymous commands in Python/NumPy: http://mathesaurus.sourceforge.net/\n",
    "\n",
    "## NEURON (with Python)\n",
    "* NEURON documentation: https://www.neuron.yale.edu/neuron/static/py_doc/index.html\n",
    "* NEURON + Python tutorial: https://neuron.yale.edu/neuron/static/docs/neuronpython/index.html\n",
    "\n",
    "## NMODL\n",
    "* NEURON Extension to NMODL: https://www.neuron.yale.edu/neuron/static/py_doc/modelspec/programmatic/mechanisms/nmodl2.html\n",
    "* NMODL: https://www.neuron.yale.edu/neuron/static/py_doc/modelspec/programmatic/mechanisms/nmodl.html#nmodl\n",
    "\n",
    "\n"
   ]
  },
  {
   "cell_type": "markdown",
   "metadata": {},
   "source": [
    "# 1. Using custom mechanisms\n",
    "\n",
    "Here we demonstrate how to compile custom active mechanisms. Most models of membrane/intracellular mechanisms are written in the NMODL language (see the links above) and the files should have an extension \".mod\". In order to use those mod files (therefore active mechanisms), you first need to compile them, and, if necessary, direct NEURON to load the compiled library.\n",
    "\n",
    "Here our first example is `MorrisLecar.mod`, which implements the Morris-Lecar ion channels, used in Rinzel and Ermentrout. If you look into the file, it looks like:\n",
    "\n",
    "```\n",
    "TITLE Morris-Lecar spiking dynamics\n",
    "\n",
    "....\n",
    "\n",
    "NEURON {\n",
    "  SUFFIX ml\n",
    "  USEION k READ ek WRITE ik\n",
    "  USEION na READ ena WRITE ina\n",
    "  NONSPECIFIC_CURRENT il\n",
    "  RANGE gnabar, gkbar, gleak, el, ina, ik, il, w, winit\n",
    "  RANGE phi, betam, gammam, betaw, gammaw\n",
    "  THREADSAFE minf, winf, tauw\n",
    "}\n",
    "\n",
    ".....\n",
    "\n",
    "```\n",
    "\n",
    "The first part contains important information: `ml`, after `SUFFIX`, is the name of this mechanism in NEURON, just as `pas` and `hh` that we have seen before. `USEION` tells you which ions are used. In particular, it writes `ik` and `ina`, which correspond to the K+ and Na+ current. `RANGE` specifies the variables that you can read and write in NEURON.\n",
    "\n",
    "To compile this, run `nrnivmodl` in the terminal, or simply "
   ]
  },
  {
   "cell_type": "code",
   "execution_count": 1,
   "metadata": {},
   "outputs": [
    {
     "name": "stdout",
     "output_type": "stream",
     "text": [
      "/root/Documents/class_3/mod.files\n",
      "CaT.mod HH2.mod MorrisLecar.mod ca.mod caL3d.mod cad.mod exp2synNMDA.mod h.mod kca.mod kir.mod km.mod kv.mod na.mod netstim2.mod\n",
      "CaT.mod HH2.mod MorrisLecar.mod ca.mod caL3d.mod cad.mod exp2synNMDA.mod h.mod kca.mod kir.mod km.mod kv.mod na.mod netstim2.mod\n",
      "\"/usr/local/nrn/share/nrn/libtool\" --tag=CC --mode=compile mpicc -DHAVE_CONFIG_H  -I. -I.. -I\"/usr/local/nrn/include/nrn\" -I\"/usr/local/nrn/x86_64/lib\"      -O3 -fPIC -fno-strict-aliasing -msse3 -c -o mod_func.lo mod_func.c\n",
      "libtool: compile:  mpicc -DHAVE_CONFIG_H -I. -I.. -I/usr/local/nrn/include/nrn -I/usr/local/nrn/x86_64/lib -O3 -fPIC -fno-strict-aliasing -msse3 -c mod_func.c  -fPIC -DPIC -o .libs/mod_func.o\n",
      "\"/usr/local/nrn/share/nrn/libtool\" --tag=CC --mode=link mpicc -module  -O3 -fPIC -fno-strict-aliasing -msse3    -o libnrnmech.la -rpath \"/usr/local/nrn/x86_64/lib\"  CaT.lo HH2.lo MorrisLecar.lo ca.lo caL3d.lo cad.lo exp2synNMDA.lo h.lo kca.lo kir.lo km.lo kv.lo na.lo netstim2.lo mod_func.lo  -L\"/usr/local/nrn/x86_64/lib\" -lnrnoc -loc -lmemacs -lnrnmpi -lscopmath -lsparse13 -L/opt/conda/lib/lib -lreadline -lncurses -L\"/usr/local/nrn/x86_64/lib\" -lnrniv -livoc -lneuron_gnu -lmeschach -lsundials       -lm -ldl\n",
      "libtool: link: rm -fr  .libs/libnrnmech.la .libs/libnrnmech.lai .libs/libnrnmech.so .libs/libnrnmech.so.0 .libs/libnrnmech.so.0.0.0\n",
      "libtool: link: mpicc -shared  -fPIC -DPIC  .libs/CaT.o .libs/HH2.o .libs/MorrisLecar.o .libs/ca.o .libs/caL3d.o .libs/cad.o .libs/exp2synNMDA.o .libs/h.o .libs/kca.o .libs/kir.o .libs/km.o .libs/kv.o .libs/na.o .libs/netstim2.o .libs/mod_func.o   -Wl,-rpath -Wl,/usr/local/nrn/x86_64/lib -Wl,-rpath -Wl,/usr/local/nrn/x86_64/lib -L/usr/local/nrn/x86_64/lib /usr/local/nrn/x86_64/lib/libnrnoc.so /usr/local/nrn/x86_64/lib/liboc.so -lX11 /usr/local/nrn/x86_64/lib/libmemacs.so /usr/local/nrn/x86_64/lib/libnrnmpi.so /usr/local/nrn/x86_64/lib/libscopmath.so /usr/local/nrn/x86_64/lib/libsparse13.so -L/opt/conda/lib/lib /usr/local/nrn/x86_64/lib/libreadline.so -lncurses /usr/local/nrn/x86_64/lib/libnrniv.so /usr/local/nrn/x86_64/lib/libivoc.so /usr/local/nrn/x86_64/lib/libneuron_gnu.so /usr/local/nrn/x86_64/lib/libmeschach.so /usr/local/nrn/x86_64/lib/libsundials.so -lm -ldl  -O3 -msse3   -Wl,-soname -Wl,libnrnmech.so.0 -o .libs/libnrnmech.so.0.0.0\n",
      "libtool: link: (cd \".libs\" && rm -f \"libnrnmech.so.0\" && ln -s \"libnrnmech.so.0.0.0\" \"libnrnmech.so.0\")\n",
      "libtool: link: (cd \".libs\" && rm -f \"libnrnmech.so\" && ln -s \"libnrnmech.so.0.0.0\" \"libnrnmech.so\")\n",
      "libtool: link: ( cd \".libs\" && rm -f \"libnrnmech.la\" && ln -s \"../libnrnmech.la\" \"libnrnmech.la\" )\n",
      "Successfully created x86_64/special\n"
     ]
    }
   ],
   "source": [
    "%%bash\n",
    "\n",
    "cd mod.files\n",
    "nrnivmodl"
   ]
  },
  {
   "cell_type": "markdown",
   "metadata": {},
   "source": [
    "Now, we first load the necessary modules and create a single compartment cell,"
   ]
  },
  {
   "cell_type": "code",
   "execution_count": 2,
   "metadata": {},
   "outputs": [
    {
     "data": {
      "text/plain": [
       "True"
      ]
     },
     "execution_count": 2,
     "metadata": {},
     "output_type": "execute_result"
    }
   ],
   "source": [
    "from neuron import h, gui\n",
    "from neuron import load_mechanisms\n",
    "\n",
    "import numpy as np\n",
    "import matplotlib.pyplot as plt\n",
    "\n",
    "load_mechanisms('./mod.files')"
   ]
  },
  {
   "cell_type": "code",
   "execution_count": 3,
   "metadata": {},
   "outputs": [],
   "source": [
    "# Single compartment cell\n",
    "soma = h.Section(name=\"soma\")\n",
    "soma.L = 20\n",
    "soma.diam = 20\n",
    "\n",
    "# Add a current clamp electrode\n",
    "ic = h.IClamp(soma(0.5))"
   ]
  },
  {
   "cell_type": "markdown",
   "metadata": {},
   "source": [
    "Then, we insert the \"hh2\" mechanism (in `mod.files/HH2.mod`) and check the cells,"
   ]
  },
  {
   "cell_type": "code",
   "execution_count": 4,
   "metadata": {},
   "outputs": [
    {
     "data": {
      "text/plain": [
       "{'point_processes': {'IClamp': {IClamp[0]}},\n",
       " 'density_mechs': {'hh2': {'gnabar': [0.003],\n",
       "   'gkbar': [0.005],\n",
       "   'vtraub': [-63.0],\n",
       "   'm_inf': [0.0],\n",
       "   'h_inf': [0.0],\n",
       "   'n_inf': [0.0],\n",
       "   'tau_m': [0.0],\n",
       "   'tau_h': [0.0],\n",
       "   'tau_n': [0.0],\n",
       "   'm_exp': [0.0],\n",
       "   'h_exp': [0.0],\n",
       "   'n_exp': [0.0],\n",
       "   'm': [0.0],\n",
       "   'h': [0.0],\n",
       "   'n': [0.0]}},\n",
       " 'ions': {'na': {'ena': [50.0],\n",
       "   'nai': [10.0],\n",
       "   'nao': [140.0],\n",
       "   'ina': [0.0],\n",
       "   'dina_dv_': [0.0]},\n",
       "  'k': {'ek': [-77.0],\n",
       "   'ki': [54.4],\n",
       "   'ko': [2.5],\n",
       "   'ik': [0.0],\n",
       "   'dik_dv_': [0.0]}},\n",
       " 'morphology': {'L': 20.0,\n",
       "  'diam': [20.0],\n",
       "  'pts3d': [],\n",
       "  'parent': None,\n",
       "  'trueparent': None},\n",
       " 'nseg': 1,\n",
       " 'Ra': 35.4,\n",
       " 'cm': [1.0]}"
      ]
     },
     "execution_count": 4,
     "metadata": {},
     "output_type": "execute_result"
    }
   ],
   "source": [
    "soma.insert(\"hh2\")\n",
    "soma.psection()"
   ]
  },
  {
   "cell_type": "code",
   "execution_count": 5,
   "metadata": {},
   "outputs": [],
   "source": [
    "# Prepare a simulation for 300 ms,\n",
    "h.tstop = 300\n",
    "\n",
    "# Current injection of 10 pA for 200 ms\n",
    "ic.delay = 50\n",
    "ic.dur = 200\n",
    "ic.amp = 0.01 # 10 pA"
   ]
  },
  {
   "cell_type": "code",
   "execution_count": 6,
   "metadata": {},
   "outputs": [
    {
     "data": {
      "text/plain": [
       "Vector[4]"
      ]
     },
     "execution_count": 6,
     "metadata": {},
     "output_type": "execute_result"
    }
   ],
   "source": [
    "# We set the temperature to 35°C to simulate a mammalian neuron,\n",
    "h.celsius = 35\n",
    "\n",
    "# Record the time and voltage,\n",
    "dt_rec = 0.1\n",
    "t = h.Vector()\n",
    "v = h.Vector()\n",
    "t.record(h._ref_t, 0.1)\n",
    "v.record(soma(0.5)._ref_v, dt_rec)\n"
   ]
  },
  {
   "cell_type": "markdown",
   "metadata": {},
   "source": [
    "Here, we add a `NetCon` object that will monitor the membrane potential of the cell and detect events with `v` crossing -20 mV. Since this `NetCon` does not need to deliver events to anything else, we connect it to `None`. Then, we can record the event times to a vector, which lets us to record spike times, detected by a voltage threshold."
   ]
  },
  {
   "cell_type": "code",
   "execution_count": 7,
   "metadata": {},
   "outputs": [
    {
     "data": {
      "text/plain": [
       "0.0"
      ]
     },
     "execution_count": 7,
     "metadata": {},
     "output_type": "execute_result"
    }
   ],
   "source": [
    "nc = h.NetCon(soma(0.5)._ref_v, None, -20, 0, 1)\n",
    "tspike = h.Vector()\n",
    "nc.record(tspike)"
   ]
  },
  {
   "cell_type": "code",
   "execution_count": 8,
   "metadata": {},
   "outputs": [
    {
     "data": {
      "text/plain": [
       "[Text(0,0.5,'v (mv)'), Text(0.5,0,'time (ms)')]"
      ]
     },
     "execution_count": 8,
     "metadata": {},
     "output_type": "execute_result"
    },
    {
     "data": {
      "image/png": "[encoded data removed]",
      "text/plain": [
       "<Figure size 432x288 with 1 Axes>"
      ]
     },
     "metadata": {
      "needs_background": "light"
     },
     "output_type": "display_data"
    }
   ],
   "source": [
    "# Run the simulation and plot the result\n",
    "\n",
    "h.run()\n",
    "\n",
    "_, ax = plt.subplots()\n",
    "\n",
    "ax.plot(t, v)\n",
    "ax.set(xlabel=\"time (ms)\", ylabel = \"v (mv)\")\n"
   ]
  },
  {
   "cell_type": "markdown",
   "metadata": {},
   "source": [
    "Here We print the spike times. Note that we used `.as_numpy` to transform a NEURON `Vector` to a numpy array"
   ]
  },
  {
   "cell_type": "code",
   "execution_count": 9,
   "metadata": {},
   "outputs": [
    {
     "name": "stdout",
     "output_type": "stream",
     "text": [
      "[ 70.575  86.275 101.6   116.9   132.175 147.475 162.75  178.05  193.325\n",
      " 208.6   223.9   239.175 257.5  ]\n"
     ]
    }
   ],
   "source": [
    "print(tspike.as_numpy())"
   ]
  },
  {
   "cell_type": "markdown",
   "metadata": {},
   "source": [
    "## Pyramidal cell example\n",
    "\n",
    "Now let's simulate the fully active pyramidal cell model. **Please make sure that you restart the kernel at this point.**"
   ]
  },
  {
   "cell_type": "code",
   "execution_count": 1,
   "metadata": {},
   "outputs": [
    {
     "data": {
      "text/plain": [
       "True"
      ]
     },
     "execution_count": 1,
     "metadata": {},
     "output_type": "execute_result"
    }
   ],
   "source": [
    "from neuron import h, gui\n",
    "from neuron import load_mechanisms\n",
    "import libcell\n",
    "\n",
    "import numpy as np\n",
    "import matplotlib.pyplot as plt\n",
    "load_mechanisms('./mod.files')"
   ]
  },
  {
   "cell_type": "markdown",
   "metadata": {},
   "source": [
    "First we defined a passive cell,"
   ]
  },
  {
   "cell_type": "code",
   "execution_count": 2,
   "metadata": {},
   "outputs": [
    {
     "name": "stdout",
     "output_type": "stream",
     "text": [
      "\t0 \n",
      "\t1 \n",
      "\t1 \n",
      "\t1 \n",
      "\t1 \n"
     ]
    }
   ],
   "source": [
    "cell = libcell.L23()"
   ]
  },
  {
   "cell_type": "markdown",
   "metadata": {},
   "source": [
    "And then, we call a function in `libcell.py` to embed active mechanisms everywhere,`"
   ]
  },
  {
   "cell_type": "code",
   "execution_count": 3,
   "metadata": {},
   "outputs": [
    {
     "data": {
      "text/plain": [
       "{'point_processes': {},\n",
       " 'density_mechs': {'pas': {'g': [0.00014285714285714287,\n",
       "    0.00014285714285714287,\n",
       "    0.00014285714285714287,\n",
       "    0.00014285714285714287,\n",
       "    0.00014285714285714287,\n",
       "    0.00014285714285714287,\n",
       "    0.00014285714285714287],\n",
       "   'e': [-75.0, -75.0, -75.0, -75.0, -75.0, -75.0, -75.0],\n",
       "   'i': [0.0, 0.0, 0.0, 0.0, 0.0, 0.0, 0.0]},\n",
       "  'it': {'gbar': [0.0003, 0.0003, 0.0003, 0.0003, 0.0003, 0.0003, 0.0003],\n",
       "   'gca': [0.0, 0.0, 0.0, 0.0, 0.0, 0.0, 0.0],\n",
       "   'minf': [0.0, 0.0, 0.0, 0.0, 0.0, 0.0, 0.0],\n",
       "   'hinf': [0.0, 0.0, 0.0, 0.0, 0.0, 0.0, 0.0],\n",
       "   'mtau': [0.0, 0.0, 0.0, 0.0, 0.0, 0.0, 0.0],\n",
       "   'htau': [0.0, 0.0, 0.0, 0.0, 0.0, 0.0, 0.0],\n",
       "   'm': [0.0, 0.0, 0.0, 0.0, 0.0, 0.0, 0.0],\n",
       "   'h': [0.0, 0.0, 0.0, 0.0, 0.0, 0.0, 0.0]},\n",
       "  'ca': {'gbar': [0.5, 0.5, 0.5, 0.5, 0.5, 0.5, 0.5],\n",
       "   'gca': [0.0, 0.0, 0.0, 0.0, 0.0, 0.0, 0.0],\n",
       "   'minf': [0.0, 0.0, 0.0, 0.0, 0.0, 0.0, 0.0],\n",
       "   'hinf': [0.0, 0.0, 0.0, 0.0, 0.0, 0.0, 0.0],\n",
       "   'mtau': [0.0, 0.0, 0.0, 0.0, 0.0, 0.0, 0.0],\n",
       "   'htau': [0.0, 0.0, 0.0, 0.0, 0.0, 0.0, 0.0],\n",
       "   'm': [0.0, 0.0, 0.0, 0.0, 0.0, 0.0, 0.0],\n",
       "   'h': [0.0, 0.0, 0.0, 0.0, 0.0, 0.0, 0.0]},\n",
       "  'kca': {'gbar': [3.0, 3.0, 3.0, 3.0, 3.0, 3.0, 3.0],\n",
       "   'gk': [0.0, 0.0, 0.0, 0.0, 0.0, 0.0, 0.0],\n",
       "   'ninf': [0.0, 0.0, 0.0, 0.0, 0.0, 0.0, 0.0],\n",
       "   'ntau': [0.0, 0.0, 0.0, 0.0, 0.0, 0.0, 0.0],\n",
       "   'n': [0.0, 0.0, 0.0, 0.0, 0.0, 0.0, 0.0]},\n",
       "  'km': {'gbar': [2.2, 2.2, 2.2, 2.2, 2.2, 2.2, 2.2],\n",
       "   'gk': [0.0, 0.0, 0.0, 0.0, 0.0, 0.0, 0.0],\n",
       "   'ninf': [0.0, 0.0, 0.0, 0.0, 0.0, 0.0, 0.0],\n",
       "   'ntau': [0.0, 0.0, 0.0, 0.0, 0.0, 0.0, 0.0],\n",
       "   'n': [0.0, 0.0, 0.0, 0.0, 0.0, 0.0, 0.0]},\n",
       "  'kv': {'gbar': [100.0, 100.0, 100.0, 100.0, 100.0, 100.0, 100.0],\n",
       "   'gk': [0.0, 0.0, 0.0, 0.0, 0.0, 0.0, 0.0],\n",
       "   'ninf': [0.0, 0.0, 0.0, 0.0, 0.0, 0.0, 0.0],\n",
       "   'ntau': [0.0, 0.0, 0.0, 0.0, 0.0, 0.0, 0.0],\n",
       "   'n': [0.0, 0.0, 0.0, 0.0, 0.0, 0.0, 0.0]},\n",
       "  'na': {'gbar': [1000.0, 1000.0, 1000.0, 1000.0, 1000.0, 1000.0, 1000.0],\n",
       "   'gna': [0.0, 0.0, 0.0, 0.0, 0.0, 0.0, 0.0],\n",
       "   'minf': [0.0, 0.0, 0.0, 0.0, 0.0, 0.0, 0.0],\n",
       "   'hinf': [0.0, 0.0, 0.0, 0.0, 0.0, 0.0, 0.0],\n",
       "   'mtau': [0.0, 0.0, 0.0, 0.0, 0.0, 0.0, 0.0],\n",
       "   'htau': [0.0, 0.0, 0.0, 0.0, 0.0, 0.0, 0.0],\n",
       "   'm': [0.0, 0.0, 0.0, 0.0, 0.0, 0.0, 0.0],\n",
       "   'h': [0.0, 0.0, 0.0, 0.0, 0.0, 0.0, 0.0]}},\n",
       " 'ions': {'na': {'ena': [60.0, 60.0, 60.0, 60.0, 60.0, 60.0, 60.0],\n",
       "   'nai': [10.0, 10.0, 10.0, 10.0, 10.0, 10.0, 10.0],\n",
       "   'nao': [140.0, 140.0, 140.0, 140.0, 140.0, 140.0, 140.0],\n",
       "   'ina': [0.0, 0.0, 0.0, 0.0, 0.0, 0.0, 0.0],\n",
       "   'dina_dv_': [0.0, 0.0, 0.0, 0.0, 0.0, 0.0, 0.0]},\n",
       "  'k': {'ek': [-90.0, -90.0, -90.0, -90.0, -90.0, -90.0, -90.0],\n",
       "   'ki': [54.4, 54.4, 54.4, 54.4, 54.4, 54.4, 54.4],\n",
       "   'ko': [2.5, 2.5, 2.5, 2.5, 2.5, 2.5, 2.5],\n",
       "   'ik': [0.0, 0.0, 0.0, 0.0, 0.0, 0.0, 0.0],\n",
       "   'dik_dv_': [0.0, 0.0, 0.0, 0.0, 0.0, 0.0, 0.0]},\n",
       "  'ca': {'eca': [140.0, 140.0, 140.0, 140.0, 140.0, 140.0, 140.0],\n",
       "   'cai': [5e-05, 5e-05, 5e-05, 5e-05, 5e-05, 5e-05, 5e-05],\n",
       "   'cao': [2.0, 2.0, 2.0, 2.0, 2.0, 2.0, 2.0],\n",
       "   'ica': [0.0, 0.0, 0.0, 0.0, 0.0, 0.0, 0.0],\n",
       "   'dica_dv_': [0.0, 0.0, 0.0, 0.0, 0.0, 0.0, 0.0]}},\n",
       " 'morphology': {'L': 9.266039848327637,\n",
       "  'diam': [29.78380012512207,\n",
       "   29.78380012512207,\n",
       "   29.78380012512207,\n",
       "   29.78380012512207,\n",
       "   29.78380012512207,\n",
       "   29.78380012512207,\n",
       "   29.78380012512207],\n",
       "  'pts3d': [(0.0, 0.0, 0.0, 29.78380012512207),\n",
       "   (0.0, 0.0, 9.266039848327637, 29.78380012512207)],\n",
       "  'parent': None,\n",
       "  'trueparent': None},\n",
       " 'nseg': 7,\n",
       " 'Ra': 100.0,\n",
       " 'cm': [1.0, 1.0, 1.0, 1.0, 1.0, 1.0, 1.0]}"
      ]
     },
     "execution_count": 3,
     "metadata": {},
     "output_type": "execute_result"
    }
   ],
   "source": [
    "libcell.init_active(cell, axon=True, soma=True, dend=True, dendNa=True, dendCa=True)\n",
    "cell.soma.psection()"
   ]
  },
  {
   "cell_type": "markdown",
   "metadata": {},
   "source": [
    "To test the excitability of the cell, we add a current clamp electrode at soma,"
   ]
  },
  {
   "cell_type": "code",
   "execution_count": 4,
   "metadata": {},
   "outputs": [],
   "source": [
    "ic = h.IClamp(cell.soma(0.5))"
   ]
  },
  {
   "cell_type": "markdown",
   "metadata": {},
   "source": [
    "Let's define a function to do a virtual current clamp experiment,"
   ]
  },
  {
   "cell_type": "code",
   "execution_count": 5,
   "metadata": {},
   "outputs": [],
   "source": [
    "def do_current_clamp(current_injected):\n",
    "    \n",
    "    # should not forget setting the temperature...\n",
    "    h.celsius = 35\n",
    "    \n",
    "    # Simulation length = 300 ms\n",
    "    h.tstop = 300\n",
    "\n",
    "    # Current injection for 200 ms\n",
    "    ic.delay = 50\n",
    "    ic.dur = 200\n",
    "    ic.amp = current_injected\n",
    "\n",
    "\n",
    "    dt_rec = 0.1\n",
    "    t = h.Vector()\n",
    "    v = h.Vector()\n",
    "    v.record(cell.soma(1)._ref_v, dt_rec)\n",
    "    t.record(h._ref_t, dt_rec)\n",
    "\n",
    "    # We set the initial voltage to -75 mV and run the simulation\n",
    "    h.v_init = -75\n",
    "    h.init()\n",
    "    h.run()\n",
    "    \n",
    "    # Here we plot the result\n",
    "    _, ax = plt.subplots()\n",
    "\n",
    "    ax.plot(t, v)\n",
    "    ax.set(xlabel=\"time (ms)\", ylabel = \"v (mv)\")"
   ]
  },
  {
   "cell_type": "code",
   "execution_count": 6,
   "metadata": {},
   "outputs": [
    {
     "data": {
      "image/png": "[encoded data removed]",
      "text/plain": [
       "<Figure size 432x288 with 1 Axes>"
      ]
     },
     "metadata": {
      "needs_background": "light"
     },
     "output_type": "display_data"
    }
   ],
   "source": [
    "do_current_clamp(0.1) # 100 pA injection; the cell is still in a subthreshold regime"
   ]
  },
  {
   "cell_type": "code",
   "execution_count": 7,
   "metadata": {},
   "outputs": [
    {
     "data": {
      "image/png": "[encoded data removed]",
      "text/plain": [
       "<Figure size 432x288 with 1 Axes>"
      ]
     },
     "metadata": {
      "needs_background": "light"
     },
     "output_type": "display_data"
    }
   ],
   "source": [
    "do_current_clamp(0.5) # 500 pA injection will give you spikes"
   ]
  },
  {
   "cell_type": "markdown",
   "metadata": {},
   "source": [
    "## Adding synapses\n",
    "\n",
    "Here we will add some synapses to the cell. These functions are copied from `libcell.py` and modified to connect each synapse to external artificial spike generators."
   ]
  },
  {
   "cell_type": "code",
   "execution_count": 8,
   "metadata": {},
   "outputs": [],
   "source": [
    "def add_AMPAsyns(model, locs, stims, gmax=1, tau1=0.5, tau2=1):\n",
    "    \"\"\"inserts AMPA synapses into model at locs and connect them to stims.\n",
    "    locs is a list of lists containing two numbers, such as [[0, 0.5]]. The first\n",
    "    number denotes which dendritic compartement the synapse will be located\n",
    "    and the second is a relative coordinate. For example, [[0, 0.5]] will embed\n",
    "    one synapse at model.dends[0](0.5). gmax is a maximal conductance in uS.\n",
    "    tau1 and tau2 are a rising and decay time constant in ms.\n",
    "    \"\"\"\n",
    "    # we store synapses and NetCons in a list\n",
    "    model.AMPAlist = []\n",
    "    model.ncAMPAlist = []\n",
    "    \n",
    "    # set in nS and convert to muS\n",
    "    gmax = gmax/1000.\n",
    "    \n",
    "    for loc, stim in zip(locs, stims):\n",
    "        # an AMPA synapse is `Exp2Syn` with a reversal potential = 0 mV\n",
    "        AMPA = h.Exp2Syn(float(loc[1]), sec=model.dends[int(loc[0])])\n",
    "        AMPA.tau1 = tau1\n",
    "        AMPA.tau2 = tau2\n",
    "        \n",
    "        # connect stim to the synapse\n",
    "        NC = h.NetCon(stim, AMPA, 0, 0, gmax)\n",
    "        model.AMPAlist.append(AMPA)\n",
    "        model.ncAMPAlist.append(NC)\n",
    "\n",
    "        \n",
    "def add_NMDAsyns(model, locs, stims, gmax=1, tau1=2, tau2=20):\n",
    "    \"\"\"inserts NMDA synapses into model at locs and connect them to stims.\"\"\"\n",
    "    model.NMDAlist = []\n",
    "    model.ncNMDAlist = []\n",
    "    gmax = gmax/1000.   # Set in nS and convert to muS\n",
    "    for loc, stim in zip(locs, stims):\n",
    "        # an NMDA synapse\n",
    "        NMDA = h.Exp2SynNMDA(float(loc[1]), sec=model.dends[int(loc[0])])\n",
    "        NMDA.tau1 = tau1\n",
    "        NMDA.tau2 = tau2\n",
    "        NC = h.NetCon(stim, NMDA, 0, 0, gmax)\n",
    "        x = float(loc[1])\n",
    "        model.NMDAlist.append(NMDA)\n",
    "        model.ncNMDAlist.append(NC)\n",
    "\n",
    "        \n",
    "def add_GABAsyns(model, locs, stims, gmax=0.5, tau1=0.1, tau2=4, rev=-80):\n",
    "    \"\"\"insetrs GABA synapses into model at locs and connect them to stims.\"\"\"\n",
    "    model.GABAlist = []\n",
    "    model.ncGABAlist = []\n",
    "    gmax = gmax/1000.   # Set in nS and convert to muS\n",
    "    for loc, stim in zip(locs, stims):\n",
    "        # a GABA synapse is `Exp2Syn` with a reversal potential = rev mV \n",
    "        # (default value = -80 mV)\n",
    "        GABA = h.Exp2Syn(float(loc[1]), sec=model.dends[int(loc[0])])\n",
    "        GABA.tau1 = tau1\n",
    "        GABA.tau2 = tau2\n",
    "        GABA.e = rev\n",
    "        NC = h.NetCon(stim, GABA, 0, 0, gmax)\n",
    "        model.GABAlist.append(GABA)\n",
    "        model.ncGABAlist.append(NC)"
   ]
  },
  {
   "cell_type": "markdown",
   "metadata": {},
   "source": [
    "Lets add an AMPA+NMDA synapse at cell.dend\\[0\\](0.5) and connect it to an artificial spike generator."
   ]
  },
  {
   "cell_type": "code",
   "execution_count": 9,
   "metadata": {},
   "outputs": [],
   "source": [
    "# location = cell.dend[0](0.5)\n",
    "locs = [[0, 0.5]]\n",
    "\n",
    "# spiking frequency = 10 Hz, ISI = 1000/10 = 100 ms\n",
    "fexc = 10\n",
    "\n",
    "exc_stims = []\n",
    "for loc in locs:\n",
    "    exc_stims.append(h.NetStimFD()) # An articifial spike generator\n",
    "    exc_stims[-1].noise = 0 # no noise\n",
    "    exc_stims[-1].start = 150 # start from 150 ms\n",
    "    exc_stims[-1].duration = h.tstop\n",
    "    exc_stims[-1].interval = 1000./fexc # set ISI\n",
    "\n",
    "# Add an AMPA synapse connected to exc_stims\n",
    "add_AMPAsyns(cell, locs, exc_stims)\n",
    "# Add an NMDA synapse at the same location, also connected to exc_stims\n",
    "add_NMDAsyns(cell, locs, exc_stims)\n"
   ]
  },
  {
   "cell_type": "code",
   "execution_count": 10,
   "metadata": {},
   "outputs": [
    {
     "data": {
      "image/png": "[encoded data removed]",
      "text/plain": [
       "<Figure size 432x288 with 1 Axes>"
      ]
     },
     "metadata": {
      "needs_background": "light"
     },
     "output_type": "display_data"
    }
   ],
   "source": [
    "do_current_clamp(0.0) # Run a simulation with no current injection"
   ]
  },
  {
   "cell_type": "markdown",
   "metadata": {},
   "source": [
    "Now let's try many more synapses, inserted at random locations! We first make a function to create random locations in the cell's dendrites."
   ]
  },
  {
   "cell_type": "code",
   "execution_count": 11,
   "metadata": {},
   "outputs": [],
   "source": [
    "def genRandomLocs(model, nsyn):\n",
    "    \"\"\"generates nsyn random locations distributed in model.dends.\"\"\"\n",
    "    locs = []\n",
    "    for s in np.arange(0,nsyn):\n",
    "        dend = np.random.randint(low=0, high=len(model.dends))\n",
    "        pos = np.random.uniform()\n",
    "        locs.append([dend, pos])\n",
    "    return locs"
   ]
  },
  {
   "cell_type": "markdown",
   "metadata": {},
   "source": [
    "And then, we create 100 excitatory and 20 inhibitory synapse locations."
   ]
  },
  {
   "cell_type": "code",
   "execution_count": 12,
   "metadata": {},
   "outputs": [
    {
     "data": {
      "text/plain": [
       "[[3, 0.9596620203446448],\n",
       " [93, 0.20745394776256842],\n",
       " [52, 0.7046539553702855],\n",
       " [92, 0.5410657920875483],\n",
       " [21, 0.15399376861806435],\n",
       " [79, 0.8999672474271468],\n",
       " [72, 0.771220387101607],\n",
       " [16, 0.22734859510267458],\n",
       " [39, 0.7295337591918936],\n",
       " [71, 0.8704207373846552],\n",
       " [92, 0.5665697049123255],\n",
       " [46, 0.6064695079844813],\n",
       " [52, 0.6609058919934612],\n",
       " [76, 0.31546214533597927],\n",
       " [46, 0.2770410632226161],\n",
       " [9, 0.1200881672692462],\n",
       " [99, 0.11940451425868104],\n",
       " [91, 0.6608153357973886],\n",
       " [8, 0.3167715491928613],\n",
       " [102, 0.29437271903869655]]"
      ]
     },
     "execution_count": 12,
     "metadata": {},
     "output_type": "execute_result"
    }
   ],
   "source": [
    "n_exc = 100\n",
    "n_inh = 20\n",
    "\n",
    "exc_locs = genRandomLocs(cell, n_exc)\n",
    "inh_locs = genRandomLocs(cell, n_inh)\n",
    "inh_locs"
   ]
  },
  {
   "cell_type": "markdown",
   "metadata": {},
   "source": [
    "We connect the excitatory synapses to spike generators, Poisson firing at 10 Hz. The inhibitory ones will be connected to another set of spike generators firing at 40 Hz."
   ]
  },
  {
   "cell_type": "code",
   "execution_count": 13,
   "metadata": {},
   "outputs": [],
   "source": [
    "# excitatory stims\n",
    "fexc = 10 # 10 Hz\n",
    "exc_stims = []\n",
    "for loc in exc_locs:\n",
    "    exc_stims.append(h.NetStimFD())\n",
    "    exc_stims[-1].noise = 1 # maximally noisy stimulus\n",
    "    exc_stims[-1].start = 0 # start from 0\n",
    "    exc_stims[-1].duration = h.tstop\n",
    "    exc_stims[-1].interval = 1000./fexc\n",
    "\n",
    "add_AMPAsyns(cell, exc_locs, exc_stims)\n",
    "add_NMDAsyns(cell, exc_locs, exc_stims)\n",
    "\n",
    "\n",
    "# inhibitory stims\n",
    "finh = 40 # 40 Hz\n",
    "inh_stims = []\n",
    "for loc in inh_locs:\n",
    "    inh_stims.append(h.NetStimFD())\n",
    "    inh_stims[-1].noise = 1 # maximally noisy stimulus\n",
    "    inh_stims[-1].start = 0 # start from 0\n",
    "    inh_stims[-1].duration = h.tstop\n",
    "    inh_stims[-1].interval = 1000./fexc\n",
    "\n",
    "add_GABAsyns(cell, inh_locs, inh_stims)"
   ]
  },
  {
   "cell_type": "code",
   "execution_count": 14,
   "metadata": {},
   "outputs": [
    {
     "data": {
      "image/png": "[encoded data removed]",
      "text/plain": [
       "<Figure size 432x288 with 1 Axes>"
      ]
     },
     "metadata": {
      "needs_background": "light"
     },
     "output_type": "display_data"
    }
   ],
   "source": [
    "do_current_clamp(0.0) # Run a simulation with no current injection"
   ]
  },
  {
   "cell_type": "markdown",
   "metadata": {},
   "source": [
    "---\n",
    "# We will cover this part in the next class on April 9.\n",
    "\n",
    "# 2. Cell objects\n",
    "\n",
    "**Make sure that you reset the kernel at this point.** \n",
    "\n",
    "In Python, you can define custom data types that you can use to organize data and related operations. For example, so far we have worked with cell models in NEURON, which have common attributes and operations as:\n",
    "\n",
    "1. Sections and segments,\n",
    "2. Combining sections to define the morphology of a cell,\n",
    "3. Active mechanisms and inserting them,\n",
    "4. Synapses and connecting them to other cells, etc.\n",
    "\n",
    "\n",
    "We can collect these into a cell object as follows:"
   ]
  },
  {
   "cell_type": "code",
   "execution_count": null,
   "metadata": {},
   "outputs": [],
   "source": [
    "from neuron import h, gui\n",
    "from neuron import load_mechanisms\n",
    "\n",
    "import numpy as np\n",
    "import matplotlib.pyplot as plt\n",
    "load_mechanisms('./mod.files')\n",
    "\n",
    "\n",
    "class Cell:\n",
    "    \"\"\" Cell class\"\"\"\n",
    "    \n",
    "    # When a cell object is created this function is called first.\n",
    "    # Note \"self\" in definition\n",
    "    def __init__(self):\n",
    "        \n",
    "        self.synlist = []      # list of synapses in this cell\n",
    "\n",
    "        # here are some operations to create a cell\n",
    "        self.create_sections()\n",
    "        self.build_topology()\n",
    "        self.build_subsets()\n",
    "        self.define_geometry()\n",
    "        self.define_biophysics()\n",
    "        self.create_synapses()\n",
    "\n",
    "    # At this stage, we leave most of them unimplemented\n",
    "    # This technique is called \"the Template Method pattern\" (https://sourcemaking.com/design_patterns/template_method)\n",
    "    def create_sections(self):\n",
    "        raise NotImplementedError(\"create_section() is not implemented.\")\n",
    "\n",
    "    def build_topology(self):\n",
    "        raise NotImplementedError(\"build_topology() is not implemented.\")\n",
    "    \n",
    "    def build_subsets(self):\n",
    "        raise NotImplementedError(\"build_subsets() is not implemented.\")\n",
    "\n",
    "    def define_geometry(self):\n",
    "        raise NotImplementedError(\"define_geometry() is not implemented.\")\n",
    "\n",
    "    def define_biophysics(self):\n",
    "        raise NotImplementedError(\"define_biophysics() is not implemented.\")\n",
    "\n",
    "    def create_synapses(self):\n",
    "        raise NotImplementedError(\"create_synapses() is not implemented.\")\n",
    "    \n",
    "    # Here are something that will be commonly used by every cell\n",
    "    # built based on this template\n",
    "    \n",
    "    def connect2target(self, target, thresh=0):\n",
    "        \"\"\"Make a new NetCon with this cell's membrane\n",
    "        potential at the soma as the source (i.e. the spike detector)\n",
    "        onto the target passed in (i.e. a synapse on a cell).\n",
    "        Subclasses may override with other spike detectors.\"\"\"\n",
    "        nc = h.NetCon(self.soma(1)._ref_v, target, sec = self.soma)\n",
    "        nc.threshold = thresh\n",
    "        return nc\n"
   ]
  },
  {
   "cell_type": "code",
   "execution_count": null,
   "metadata": {},
   "outputs": [],
   "source": [
    "cell1 = Cell()"
   ]
  },
  {
   "cell_type": "markdown",
   "metadata": {},
   "source": [
    "It will generate an error whenever you fail to provide any necessary step to define a proper cell. To implement those steps, we _subclass_ `Cell` as:"
   ]
  },
  {
   "cell_type": "code",
   "execution_count": null,
   "metadata": {},
   "outputs": [],
   "source": [
    "class MorrisLecar(Cell):\n",
    "    \"\"\"Single compartment passive neuron\"\"\"\n",
    "    \n",
    "    def create_sections(self):\n",
    "        \"\"\"create a soma\"\"\"\n",
    "        self.soma = h.Section(name=\"soma\", cell=self)\n",
    "\n",
    "    def build_topology(self):\n",
    "        pass # single compartment\n",
    "    \n",
    "    def build_subsets(self):\n",
    "        pass # single compartment\n",
    "    \n",
    "    def define_geometry(self):\n",
    "        self.soma.L = 15\n",
    "        self.soma.diam = 15\n",
    "\n",
    "    def define_biophysics(self):\n",
    "        self.soma.insert('ml')\n",
    "        \n",
    "    def create_synapses(self):\n",
    "        self.synlist.append(h.Exp2Syn(self.soma(0.5))) # Excitatory\n",
    "        self.synlist[-1].tau2 = 3.0\n",
    "        \n",
    "        self.synlist.append(h.Exp2Syn(self.soma(0.5))) # Inhibitory     \n",
    "        self.synlist[-1].e = -75\n",
    "        self.synlist[-1].tau1 = 1.0\n",
    "        self.synlist[-1].tau2 = 7.0\n",
    "    "
   ]
  },
  {
   "cell_type": "code",
   "execution_count": null,
   "metadata": {},
   "outputs": [],
   "source": [
    "cell1.soma.psection()"
   ]
  }
 ],
 "metadata": {
  "kernel_info": {
   "name": "python3"
  },
  "kernelspec": {
   "display_name": "Python 3",
   "language": "python",
   "name": "python3"
  },
  "language_info": {
   "codemirror_mode": {
    "name": "ipython",
    "version": 3
   },
   "file_extension": ".py",
   "mimetype": "text/x-python",
   "name": "python",
   "nbconvert_exporter": "python",
   "pygments_lexer": "ipython3",
   "version": "3.7.4"
  },
  "nteract": {
   "version": "0.12.3"
  }
 },
 "nbformat": 4,
 "nbformat_minor": 4
}
