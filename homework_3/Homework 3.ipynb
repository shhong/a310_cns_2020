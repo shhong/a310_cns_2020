{
 "cells": [
  {
   "cell_type": "markdown",
   "metadata": {},
   "source": [
    "# Homework 3 (Due: April 1, 2019)"
   ]
  },
  {
   "cell_type": "markdown",
   "metadata": {},
   "source": [
    "## 1. fI curve, A-current, and near-threshold membrane potential dynamics\n",
    "\n",
    "Here we ask you to reproduce Fig. 7.2B and 7.6Bin Rinzel and Ermentrout by using simulations of a single compartment model neuron with active mechanisms called the Connor-Stevens model (Connor JA and Stevens CF (1971) J Physiol. 213(1):31-53) (`conste`). In addition to the Hodgekin-Huxley-like Na+ and K+ channel, the Connor-Stevens model has another type of the K+ current called the A-type current. The conductance density of the A-current is initially `gabar_conste`=0.0477 S/cm2.\n",
    "\n",
    "Construct a single compartment neuron model with the following specifictations:\n",
    "\n",
    "1. A single section, named `soma`, with a diameter and length of 15 um,\n",
    "2. The Connor-Stevens mechanism inserted (`conste`),\n",
    "3. A current clamp (`h.IClamp`) electrode embedded.\n",
    "\n",
    "With simulation of this model, answer the following questions:\n",
    "\n",
    "1. While injecting the constant current with different amplitudes, count how many spikes the neuron fires. With the data, plot the relationship between the injected current vs firing rate relationship, the f-I curve as Fig. 7.2B and 7.6B. Please try to collect data densely around the rheobase (a current threshold for initiating repeatitive spiking) so that you can probe the shape of the f-I curve better around the rheobase. Which case do you think this correspond to, 7.2B or 7.6B? \n",
    "2. Turn off the A-current by setting the conductance `gabar_conste` to zero, and repeat the steps in 1. Again, which one is qualitatively similar to this case, 7.2B or 7.6B? \n",
    "3. In both cases, record the membrane voltage `v` and K+ channel gating variable `n_conste`, and draw the 2d phase plot, `v` versus `n_conste`. When the injected current crosses the rheobase, how does the phase plot change? And how does that change depend on the presence/absence of the A-current? Again, please make sure that the injected current is sufficiently close to the rheobase so that you can observe the near-threshold behavior.\n",
    "\n",
    "**Note: Don't forget compiling the .mod files in `mod.files`!**"
   ]
  },
  {
   "cell_type": "markdown",
   "metadata": {},
   "source": [
    "## 2. Emergent oscillation in a network of mutually inhibiting neurons\n",
    "\n",
    "Construct a network model with the following specifications:\n",
    "\n",
    "1. The network has 100 cells,\n",
    "2. Each cell is a single compartment model with a diameter and length of 15 um,\n",
    "3. Each cell has the Connor-Stevens mechanism inserted (`conste`),\n",
    "4. Each cell has one excitatory (tau1=0.25 ms and tau2=2 ms, e=0 mV) and inhibitory (tau1 = 1 ms, tau2 = 5 ms, e = -75 mV), based on the `Exp2Syn` mechanism.\n",
    "5. Each excitatory synapse is driven by a external stimulus generator, `NetStimFD`, that fires noisily (`noise`=1) at 500 Hz. The synaptic conductance (`weight[0]` in the `NetCon` for the connection) is 5 pS.\n",
    "6. Each inhibitory synapse is connected to other 50 random presynaptic cells in the network, with a conduction delay (`delay` in the `NetCon` for the connection) of 4 ms and synaptic conductance of 5 pS.\n",
    "\n",
    "Run the simulation of this model for at least 500 ms while recording spike times from every cell, and answer the following questions,\n",
    "\n",
    "1. Plot a raster plot of the data: plot a scatter plot of the data where an x-axis is time and y-axis is neuron's id (see an example below).\n",
    "\n",
    "<img src=raster_example.png width=500></img>\n",
    "\n",
    "2. Plot the total spike count in time: make a histogram of all the spike times with 1 ms time bins and plot the result (see an example below. For making a histogram, see https://docs.scipy.org/doc/numpy/reference/generated/numpy.histogram.html).\n",
    "\n",
    "<img src=spike_count.png width=500></img>\n",
    "\n",
    "3. Find an oscillation frequency from the spike count time series. How does the oscillation frequency compare with the mean firing frequency? Hint: You can use the `periodogram` function in `scipy.signal`(https://docs.scipy.org/doc/scipy-0.14.0/reference/generated/scipy.signal.periodogram.html) to compute a power spectrial density. Make sure that your sampling rate (`fs`) is 1e3 since the time bin size is 1 ms.\n",
    "4. Turn off the A-current in every neuron. How does it change the oscillation and mean firing frequency?"
   ]
  }
 ],
 "metadata": {
  "kernel_info": {
   "name": "python3"
  },
  "kernelspec": {
   "display_name": "Python 3",
   "language": "python",
   "name": "python3"
  },
  "language_info": {
   "codemirror_mode": {
    "name": "ipython",
    "version": 3
   },
   "file_extension": ".py",
   "mimetype": "text/x-python",
   "name": "python",
   "nbconvert_exporter": "python",
   "pygments_lexer": "ipython3",
   "version": "3.7.4"
  },
  "nteract": {
   "version": "0.7.1"
  }
 },
 "nbformat": 4,
 "nbformat_minor": 4
}
