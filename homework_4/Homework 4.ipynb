{
 "cells": [
  {
   "cell_type": "markdown",
   "metadata": {},
   "source": [
    "# Homework 4 (Due: May 11, 2020)"
   ]
  },
  {
   "cell_type": "markdown",
   "metadata": {},
   "source": [
    "## 1. Network model with specific connectivity\n",
    "\n",
    "Construct a network model according to the specifications below:\n",
    "1. The network has 800 excitatory and 200 inhibitory neurons.\n",
    "2. Each neuron receives maximally 80 excitory and 20 inhibitory inputs.\n",
    "3. Each neuron has a randomly chosen variable $\\theta$ with $0 \\leq \\theta \\leq 1$.\n",
    "4. The neuron model for each cell is the [Wang-Buzsáki model](https://www.ncbi.nlm.nih.gov/pubmed/8815919) (the mechanism name `wb`),\n",
    "5. Each neuron has two `Exp2Syn` synapses,\n",
    "    1. Excitatory synapse with `tau1`=0.1 ms and `tau2`=2 ms,\n",
    "    2. Inhibitory synapse with `tau1`=0.2 ms and `tau2`=4 ms,\n",
    "6. Each neuron receives two different external inputs (`NetStimFD`) connected to an excitatory synapse with the weight of 0.4 nS (i.e., the netcon has `.weight[0]`=0.4e-3).\n",
    "    1. The first one fires at 10 Hz throughout the simulation,\n",
    "    2. The second one starts to fire at _t_=150 ms with the rate depending on each cell's $\\theta$ as $$\\nu(\\theta) = 5\\left[ \\sin(2\\pi\\theta)+1\\right]+1,$$\n",
    "7. Each neuron receives inputs from excitatory cells, with the weight of $g_E$=0.02 nS, only if\n",
    "$$ 1 - \\cos(2\\pi\\Delta\\theta) < \\sigma_E,$$\n",
    "where $\\Delta\\theta = \\theta_{post}-\\theta_{pre}$ is a difference in $\\theta$ between the pre- and postsynaptic cell. $\\sigma_E$ is a parameter, initially set at $\\sigma_E$=2.\n",
    "Similarly, inputs from inhibitory cells exist, with the weight of $g_I$=0.16 nS, only if\n",
    "$$ 1 - \\cos(2\\pi\\Delta\\theta) < \\sigma_I,$$\n",
    "where $\\sigma_I$=2, initially.\n",
    "\n",
    "Simulate the model and analyze the result to answer the following questions:\n",
    "1. Run the simulation with and without network connections, and compare the results. In particular, how does the firing rate depend on $\\theta$?\n",
    "2. Change $\\sigma_E$ to smaller values, run the model, and discuss how the network firing changes depending on $\\sigma_E$.\n",
    "3. Also change $\\sigma_I$ and discuss how $(\\sigma_E, \\sigma_I)$ impacts the network firing.\n",
    "4. Your experimentalist friends asked the implications of their experimental finding that $\\sigma_I$ is slightly smaller than or almost equal to $\\sigma_E$ in the local cortical network (e.g., [Levy and Reyes (2012) J Neurosci 18, 5609-19](https://www.jneurosci.org/content/32/16/5609)). What would you tell them? Try to change other parameters of the model to explore the model's behavior in this regime.\n"
   ]
  },
  {
   "cell_type": "markdown",
   "metadata": {},
   "source": [
    "## 2. Spike-timing dependent plasticity\n",
    "\n",
    "Here we ask you to reproduce two figures in Clopath et al. Nat Neurosci, 2010, Fig. 2b and Fig. 4b.\n",
    "\n",
    "1. Using the simulation in [tutorial 5 (Part 1)](https://github.com/shhong/a310_cns_2020/blob/master/class_4/NEURON%20tutorial%205_v2.ipynb), which replicates Fig. 2a in Clopath et al., construct a simulation to reproduce Fig. 2b in Clopath et al. If you change your cell model to something else, do you still get similar curves (assuming suitable parameter change?\n",
    "2. Modify the simulation in [tutorial 5 (Part 2)](https://github.com/shhong/a310_cns_2020/blob/master/class_4/NEURON%20tutorial%205_v2.ipynb), which replicates Fig. 4a in Clopath et al., explore the parameter space (stimulation rate, high-rate group size, etc.), and discuss the results. In particular, discuss how different parameter choice leads to different connectivity patterns.\n",
    "3. Construct a simulation according to the protocol for Fig. 4b in Clopath et al., run it, and discuss the results."
   ]
  }
 ],
 "metadata": {
  "kernel_info": {
   "name": "python3"
  },
  "kernelspec": {
   "display_name": "Python 3",
   "language": "python",
   "name": "python3"
  },
  "language_info": {
   "codemirror_mode": {
    "name": "ipython",
    "version": 3
   },
   "file_extension": ".py",
   "mimetype": "text/x-python",
   "name": "python",
   "nbconvert_exporter": "python",
   "pygments_lexer": "ipython3",
   "version": "3.7.6"
  },
  "nteract": {
   "version": "0.12.3"
  }
 },
 "nbformat": 4,
 "nbformat_minor": 2
}
