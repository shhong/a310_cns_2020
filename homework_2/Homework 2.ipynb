{
  "cells": [
    {
      "cell_type": "markdown",
      "source": [
        "# Homework 2 (Due: Mar 27, 2020)"
      ],
      "metadata": {}
    },
    {
      "cell_type": "markdown",
      "source": [
        "## 1. Synaptic summation: excitatory inputs\n",
        "\n",
        "Use the simulation in the **1 Pyramidal cell + 2 stimuli** part of Tutorial 2 (part 2) that simulates a pyramidal neuron with the passive membrane and two synapses, managed by two point process managers. Both synapses activate at _t_=50 ms, and both are set to excitatory ones (e = 0 mV).\n",
        "\n",
        "Run the following simulations to record three different EPSP traces at the soma:\n",
        "\n",
        "1. EPSP<sub>1+2</sub>: Both synapses are active,\n",
        "2. EPSP<sub>1</sub>: Only the first synapse is active (set `nc[1].weight[0]`= 0 to turn the second synapse off),\n",
        "3. EPSP<sub>2</sub>: Only the second synapse is active (set `nc[0].weight[0]`= 0).\n",
        "\n",
        "Now, compare  EPSP<sub>1+2</sub> and EPSP<sub>1</sub> + EPSP<sub>2</sub>, in three different cases.\n",
        "\n",
        "1. **(Same branch, close together)** The synapses are in the same branch and close to each other.\n",
        "\n",
        "2. **(Same branch, far away)** The synapses are in the same branch but separated by a larger distance than 1.\n",
        "\n",
        "3. **(Different branches)** The synapses are in different branches.\n",
        "\n"
      ],
      "metadata": {}
    },
    {
      "cell_type": "markdown",
      "source": [
        "## 2. Synaptic summation: excitatory and inhibitory\n",
        "\n",
        "Use the same **1 Pyramidal cell + 2 stimuli** simulation, but make one of the synapses inhibitory by changing the reversal potential (`e`) to -75 mV (Note that this is the same as the resting membrane potential and threfore the synapse will deliver _shunting inhibition_). Also, change `tau2`=150 ms and `stim[1].start`=0 so that it should activate slowly like a GABA<sub>B</sub> synapse from the beginning of the simulation. \n",
        "\n",
        "1. __(Proximal inhibition)__ Place the excitatory synapse to a distal part of a dendrite  (far away from the soma) and the inhibitory one in the same branch but at a proximal location (closer to the soma). Run simulations with different conductance values, make a plot for the EPSP amplitude as Fig. 5.1A in the textbook.\n",
        "2. __(Distal inhibition)__ Move the inhibitory synapse also to a distal part and make a plot as Fig. 5.1B.\n",
        "3. __(Different branch)__ Move the inhibitory synapse to a different dendrite than the excitatory synapse, and make a similar plot as 1 and 2."
      ],
      "metadata": {}
    },
    {
      "cell_type": "markdown",
      "source": [
        "## 3. Channel dynamics during spike generation\n",
        "\n",
        "Create a single compartment neuron model with the following specifications:\n",
        "\n",
        "1. A single section, named `soma`, with a length and diameter of 15 μm.\n",
        "2. The Hodgkin-Huxley mechanism is embedded (`soma.insert('hh')`).\n",
        "3. A current clamp electrode that injects current with\n",
        "   1. a duration of 1 ms,\n",
        "   2. an amplitude of 100 pA.\n",
        "\n",
        "Use the model to answer the following questions:\n",
        "\n",
        "1. Simulate this model while recording the membrane voltage and also the channel gating variables, `m_hh`, `h_hh`, and `n_hh`. Discuss how the channel activation dynamics generates an action potential in a similar way to Fig. 6.5 in the textbook.\n",
        "2. __(Anode break excitation)__ Change an amplitude of the injected current to -0.2 nA, run a simulation, and explain the result.\n",
        "3. Make the phase space plots with the membrane potential and `n_hh`, using the simulation results from 1 and 2, and related those plots to your answers in those questions.\n",
        "4. Change the temperature (`h.celsius`) to 12 °C and run the same simulations. How would you characterize the changes in membrane excitability? Try also higher temperatures up to 36 °C as well.\n",
        "\n"
      ],
      "metadata": {}
    }
  ],
  "metadata": {
    "kernel_info": {
      "name": "python3"
    },
    "kernelspec": {
      "display_name": "Python 3",
      "language": "python",
      "name": "python3"
    },
    "language_info": {
      "name": "python",
      "version": "3.7.6",
      "mimetype": "text/x-python",
      "codemirror_mode": {
        "name": "ipython",
        "version": 3
      },
      "pygments_lexer": "ipython3",
      "nbconvert_exporter": "python",
      "file_extension": ".py"
    },
    "nteract": {
      "version": "0.22.0"
    }
  },
  "nbformat": 4,
  "nbformat_minor": 4
}