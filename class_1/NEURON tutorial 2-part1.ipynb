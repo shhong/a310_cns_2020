{
 "cells": [
  {
   "cell_type": "markdown",
   "metadata": {},
   "source": [
    "# Useful references\n",
    "\n",
    "## Python + Numpy + Matplotlib + etc.\n",
    "\n",
    "* Python Numpy Tutorial: http://cs231n.github.io/python-numpy-tutorial/\n",
    "* Computational Statistics in Python: http://people.duke.edu/~ccc14/sta-663-2017/\n",
    "* Numpy for MATLAB users: https://docs.scipy.org/doc/numpy-dev/user/numpy-for-matlab-users.html\n",
    "* MATLAB synonymous commands in Python/NumPy: http://mathesaurus.sourceforge.net/\n",
    "* Effectively using matplotlib: https://pbpython.com/effective-matplotlib.html\n",
    "\n",
    "\n",
    "## NEURON (with Python)\n",
    "* NEURON documentation: https://www.neuron.yale.edu/neuron/static/py_doc/index.html\n",
    "* NEURON + Python tutorial: https://neuron.yale.edu/neuron/docs/scripting-neuron-basics\n"
   ]
  },
  {
   "cell_type": "markdown",
   "metadata": {},
   "source": [
    "# 1. Current clamp simulation on a passive pyramidal neuron\n",
    "\n",
    "Here we demonstrate how to run a current clamp simulation with a passive pyramidal neuron for the second home work. First, we begin by importing a module `libcell` and constructs a pyramidal cell in NEURON"
   ]
  },
  {
   "cell_type": "code",
   "execution_count": null,
   "metadata": {},
   "outputs": [],
   "source": [
    "import numpy as np\n",
    "import matplotlib.pyplot as plt\n",
    "from neuron import h, gui\n",
    "import libcell"
   ]
  },
  {
   "cell_type": "code",
   "execution_count": null,
   "metadata": {},
   "outputs": [],
   "source": [
    "cell = libcell.L23()"
   ]
  },
  {
   "cell_type": "code",
   "execution_count": null,
   "metadata": {},
   "outputs": [],
   "source": [
    "h.psection()"
   ]
  },
  {
   "cell_type": "markdown",
   "metadata": {},
   "source": [
    "Here we load a session file for the virtual current clamp experiment:"
   ]
  },
  {
   "cell_type": "code",
   "execution_count": null,
   "metadata": {},
   "outputs": [],
   "source": [
    "h.xopen(\"iclamp.ses\")"
   ]
  },
  {
   "cell_type": "markdown",
   "metadata": {},
   "source": [
    "Loading this session embeds a current clamp electrode `h.IClamp[0]`, whose parameters are:"
   ]
  },
  {
   "cell_type": "code",
   "execution_count": null,
   "metadata": {},
   "outputs": [],
   "source": [
    "print('Activation onset = {} ms\\nDuration = {} ms\\nAmplitude = {} nA'.format(\n",
    "        h.IClamp[0].delay, h.IClamp[0].dur, h.IClamp[0].amp))"
   ]
  },
  {
   "cell_type": "markdown",
   "metadata": {},
   "source": [
    "You can control the location and parameters via the \"PointProcessManager\" window. Now let's run simulation while recording the membrane potential at soma."
   ]
  },
  {
   "cell_type": "code",
   "execution_count": null,
   "metadata": {},
   "outputs": [],
   "source": [
    "def run(tstop=300):\n",
    "    \"\"\"runs a simulation and returns the membrane potential recording at the soma.\"\"\"\n",
    "    dt = 0.1 # Again we use 10kHz sampling rate, e.g. 0.1 ms interval\n",
    "    vrec = h.Vector() # The recording will be save in this vector\n",
    "    vrec.record(h.soma(0.5)._ref_v, dt)\n",
    "    \n",
    "    h.tstop = tstop  # Set how long the simulation will run.\n",
    "    h.init()\n",
    "    h.run()\n",
    "    \n",
    "    return vrec.c() # Should return a copy of the vector\n"
   ]
  },
  {
   "cell_type": "markdown",
   "metadata": {},
   "source": [
    "Let's collect multiple recordings in a list and also make a note of where the electrode was:"
   ]
  },
  {
   "cell_type": "code",
   "execution_count": null,
   "metadata": {},
   "outputs": [],
   "source": [
    "h.distance(sec=cell.soma) # Set an origin to cell.soma(0)\n",
    "h.distance(h.IClamp[0].get_segment()) # Measure a distance to the origin from the electrode"
   ]
  },
  {
   "cell_type": "code",
   "execution_count": null,
   "metadata": {},
   "outputs": [],
   "source": [
    "# Reset lists\n",
    "vrecs = []\n",
    "distances = []"
   ]
  },
  {
   "cell_type": "code",
   "execution_count": null,
   "metadata": {},
   "outputs": [],
   "source": [
    "result = run()\n",
    "vrecs.append(result)\n",
    "# r18_1.distance_from_soma(ic) computes a distance from a soma \n",
    "# to the current clamp electrode\n",
    "distances.append(r18_1.distance_from_soma(h.IClamp[0]))\n",
    "\n",
    "print(\"Number of simulations ran =\", len(distances))"
   ]
  },
  {
   "cell_type": "code",
   "execution_count": null,
   "metadata": {},
   "outputs": [],
   "source": [
    "%matplotlib inline\n",
    "\n",
    "fig,ax = plt.subplots()\n",
    "t = np.arange(2000)*0.1\n",
    "for v in vrecs:\n",
    "    ax.plot(t, v)\n",
    "ax.legend(distances)\n",
    "ax.set(xlabel='time (ms)', ylabel='Voltage (mV)')"
   ]
  },
  {
   "cell_type": "markdown",
   "metadata": {},
   "source": [
    "## * How to locate and move point processes\n",
    "\n",
    "* Help for point processes: https://www.neuron.yale.edu/neuron/static/py_doc/modelspec/programmatic/mechanisms/mech.html"
   ]
  },
  {
   "cell_type": "markdown",
   "metadata": {},
   "source": [
    "To find out where our electrode is now:"
   ]
  },
  {
   "cell_type": "code",
   "execution_count": null,
   "metadata": {},
   "outputs": [],
   "source": [
    "h.IClamp[0].get_segment()"
   ]
  },
  {
   "cell_type": "code",
   "execution_count": null,
   "metadata": {},
   "outputs": [],
   "source": [
    "h.distance(sec=cell.soma) # Set an origin to cell.soma(0)\n",
    "h.distance(h.IClamp[0].get_segment()) # Measure a distance to the origin from the electrode"
   ]
  },
  {
   "cell_type": "markdown",
   "metadata": {},
   "source": [
    "Let's go through all sections and segments:"
   ]
  },
  {
   "cell_type": "code",
   "execution_count": null,
   "metadata": {},
   "outputs": [],
   "source": [
    "for sec in h.allsec():\n",
    "    for seg in sec.allseg():\n",
    "        print(sec.name(), seg.x)"
   ]
  },
  {
   "cell_type": "markdown",
   "metadata": {},
   "source": [
    "With distances:"
   ]
  },
  {
   "cell_type": "code",
   "execution_count": null,
   "metadata": {},
   "outputs": [],
   "source": [
    "for sec in h.allsec():\n",
    "    for seg in sec.allseg():\n",
    "        segname = '{}({})'.format(sec.name(), seg.x)\n",
    "        h.distance(sec=cell.soma)\n",
    "        print(segname, '\\t', h.distance(seg))"
   ]
  },
  {
   "cell_type": "markdown",
   "metadata": {},
   "source": [
    "`PointProcess.loc(segment)` moves the point process to a given segment.\n",
    "\n",
    "**Exercise:** Find a segment in `cell` by a name and move our electrode to it."
   ]
  },
  {
   "cell_type": "code",
   "execution_count": null,
   "metadata": {},
   "outputs": [],
   "source": []
  }
 ],
 "metadata": {
  "kernel_info": {
   "name": "python3"
  },
  "kernelspec": {
   "display_name": "Python 3",
   "language": "python",
   "name": "python3"
  },
  "language_info": {
   "codemirror_mode": {
    "name": "ipython",
    "version": 3
   },
   "file_extension": ".py",
   "mimetype": "text/x-python",
   "name": "python",
   "nbconvert_exporter": "python",
   "pygments_lexer": "ipython3",
   "version": "3.7.5"
  },
  "nteract": {
   "version": "0.15.0"
  }
 },
 "nbformat": 4,
 "nbformat_minor": 4
}
