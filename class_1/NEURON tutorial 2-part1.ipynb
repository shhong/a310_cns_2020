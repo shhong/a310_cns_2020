{
  "cells": [
    {
      "cell_type": "markdown",
      "source": [
        "# Useful references\n",
        "\n",
        "## Python + Numpy + Matplotlib + etc.\n",
        "\n",
        "* Python Numpy Tutorial: http://cs231n.github.io/python-numpy-tutorial/\n",
        "* Computational Statistics in Python: https://people.duke.edu/~ccc14/sta-663/\n",
        "* Numpy for MATLAB users: https://docs.scipy.org/doc/numpy-dev/user/numpy-for-matlab-users.html\n",
        "* MATLAB synonymous commands in Python/NumPy: http://mathesaurus.sourceforge.net/\n",
        "\n",
        "## NEURON (with Python)\n",
        "* NEURON documentation: https://www.neuron.yale.edu/neuron/static/py_doc/index.html\n",
        "* NEURON + Python tutorial: https://neuron.yale.edu/neuron/static/docs/neuronpython/index.html\n",
        "\n"
      ],
      "metadata": {}
    },
    {
      "cell_type": "markdown",
      "source": [
        "# 1. Current clamp simulation on a passive pyramidal neuron\n",
        "\n",
        "Here we demonstrate how to run a current clamp simulation with a passive pyramidal neuron for the second home work. First, we begin by importing NEURON and another module `r18_1`, which constructs a pyramidal cell:"
      ],
      "metadata": {}
    },
    {
      "cell_type": "code",
      "source": [
        "import numpy as np\n",
        "import matplotlib.pyplot as plt\n",
        "from neuron import h, gui\n",
        "import r18_1"
      ],
      "outputs": [],
      "execution_count": null,
      "metadata": {}
    },
    {
      "cell_type": "code",
      "source": [
        "h.psection()"
      ],
      "outputs": [],
      "execution_count": null,
      "metadata": {}
    },
    {
      "cell_type": "markdown",
      "source": [
        "Here we load a session file for the virtual current clamp experiment:"
      ],
      "metadata": {}
    },
    {
      "cell_type": "code",
      "source": [
        "h.xopen(\"iclamp.ses\")"
      ],
      "outputs": [],
      "execution_count": null,
      "metadata": {}
    },
    {
      "cell_type": "markdown",
      "source": [
        "Loading this session embeds a current clamp electrode `h.IClamp[0]`, whose parameters are:"
      ],
      "metadata": {}
    },
    {
      "cell_type": "code",
      "source": [
        "print('Activation onset = {} ms\\nDuration = {} ms\\nAmplitude = {} nA'.format(\n",
        "        h.IClamp[0].delay, h.IClamp[0].dur, h.IClamp[0].amp))"
      ],
      "outputs": [],
      "execution_count": null,
      "metadata": {}
    },
    {
      "cell_type": "markdown",
      "source": [
        "You can control the location and parameters via the \"PointProcessManager\" window. Now let's run simulation while recording the membrane potential at soma."
      ],
      "metadata": {}
    },
    {
      "cell_type": "code",
      "source": [
        "def run(tstop=200):\n",
        "    \"\"\"runs a simulation and returns the membrane potential recording at the soma.\"\"\"\n",
        "    dt = 0.1 # Again we use 10kHz sampling rate, e.g. 0.1 ms interval\n",
        "    vrec = h.Vector() # The recording will be save in this vector\n",
        "    vrec.record(h.soma(0.5)._ref_v, dt)\n",
        "    \n",
        "    h.tstop = tstop  # Set how long the simulation will run.\n",
        "    h.init()\n",
        "    h.run()\n",
        "    \n",
        "    return vrec.c() # Should return a copy of the vector\n"
      ],
      "outputs": [],
      "execution_count": null,
      "metadata": {}
    },
    {
      "cell_type": "markdown",
      "source": [
        "Let's collect multiple recordings in a list and also make a note of where the electrode was:"
      ],
      "metadata": {}
    },
    {
      "cell_type": "code",
      "source": [
        "r18_1.distance_from_soma(h.IClamp[0])"
      ],
      "outputs": [],
      "execution_count": null,
      "metadata": {}
    },
    {
      "cell_type": "code",
      "source": [
        "# Reset lists\n",
        "vrecs = []\n",
        "distances = []"
      ],
      "outputs": [],
      "execution_count": null,
      "metadata": {}
    },
    {
      "cell_type": "code",
      "source": [
        "result = run()\n",
        "vrecs.append(result)\n",
        "# r18_1.distance_from_soma(ic) computes a distance from a soma \n",
        "# to the current clamp electrode\n",
        "distances.append(r18_1.distance_from_soma(h.IClamp[0]))\n",
        "\n",
        "print(\"Number of simulations ran =\", len(distances))"
      ],
      "outputs": [],
      "execution_count": null,
      "metadata": {}
    },
    {
      "cell_type": "code",
      "source": [
        "%matplotlib inline\n",
        "\n",
        "fig,ax = plt.subplots()\n",
        "t = np.arange(2000)*0.1\n",
        "for v in vrecs:\n",
        "    ax.plot(t, v)\n",
        "ax.legend(distances)\n",
        "ax.set(xlabel='time (ms)', ylabel='Voltage (mV)')"
      ],
      "outputs": [],
      "execution_count": null,
      "metadata": {
        "scrolled": false
      }
    },
    {
      "cell_type": "markdown",
      "source": [
        "## * How to locate and move point processes\n",
        "\n",
        "* Help for point processes: https://www.neuron.yale.edu/neuron/static/py_doc/modelspec/programmatic/mechanisms/mech.html"
      ],
      "metadata": {}
    },
    {
      "cell_type": "markdown",
      "source": [
        "To find out where our electrode is now:"
      ],
      "metadata": {}
    },
    {
      "cell_type": "code",
      "source": [
        "r18_1.locate_electrode(h.IClamp[0])"
      ],
      "outputs": [],
      "execution_count": null,
      "metadata": {}
    },
    {
      "cell_type": "code",
      "source": [
        "r18_1.distance_from_soma('dend1[859](0.0)')  # distance from a soma in um"
      ],
      "outputs": [],
      "execution_count": null,
      "metadata": {}
    },
    {
      "cell_type": "markdown",
      "source": [
        "Let's go through all sections and segments:"
      ],
      "metadata": {}
    },
    {
      "cell_type": "code",
      "source": [
        "for sec in h.allsec():\n",
        "    for seg in sec.allseg():\n",
        "        print(sec.name(), seg.x)"
      ],
      "outputs": [],
      "execution_count": null,
      "metadata": {}
    },
    {
      "cell_type": "markdown",
      "source": [
        "With distances:"
      ],
      "metadata": {}
    },
    {
      "cell_type": "code",
      "source": [
        "for sec in h.allsec():\n",
        "    for seg in sec.allseg():\n",
        "        segname = '{}({})'.format(sec.name(), seg.x)\n",
        "        print(segname, r18_1.distance_from_soma(segname))"
      ],
      "outputs": [],
      "execution_count": null,
      "metadata": {}
    },
    {
      "cell_type": "code",
      "source": [
        "r18_1.move_electrode_to(h.IClamp[0], 'soma(0.5)')"
      ],
      "outputs": [],
      "execution_count": null,
      "metadata": {}
    },
    {
      "cell_type": "code",
      "source": [],
      "outputs": [],
      "execution_count": null,
      "metadata": {}
    }
  ],
  "metadata": {
    "kernel_info": {
      "name": "python3"
    },
    "kernelspec": {
      "name": "python3",
      "language": "python",
      "display_name": "Python 3"
    },
    "language_info": {
      "name": "python",
      "version": "3.7.5",
      "mimetype": "text/x-python",
      "codemirror_mode": {
        "name": "ipython",
        "version": 3
      },
      "pygments_lexer": "ipython3",
      "nbconvert_exporter": "python",
      "file_extension": ".py"
    },
    "nteract": {
      "version": "0.15.0"
    }
  },
  "nbformat": 4,
  "nbformat_minor": 2
}