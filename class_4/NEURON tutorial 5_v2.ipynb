{
 "cells": [
  {
   "cell_type": "markdown",
   "metadata": {},
   "source": [
    "# Useful references\n",
    "\n",
    "## Python + Numpy + Matplotlib + etc.\n",
    "\n",
    "* Python Numpy Tutorial: http://cs231n.github.io/python-numpy-tutorial/\n",
    "* Computational Statistics in Python: https://people.duke.edu/~ccc14/sta-663/\n",
    "* Numpy for MATLAB users: https://docs.scipy.org/doc/numpy-dev/user/numpy-for-matlab-users.html\n",
    "* MATLAB synonymous commands in Python/NumPy: http://mathesaurus.sourceforge.net/\n",
    "\n",
    "## NEURON (with Python)\n",
    "* NEURON documentation: https://www.neuron.yale.edu/neuron/static/py_doc/index.html\n",
    "* NEURON + Python tutorial: https://neuron.yale.edu/neuron/static/docs/neuronpython/index.html\n",
    "\n",
    "## NMODL\n",
    "* NEURON Extension to NMODL: https://www.neuron.yale.edu/neuron/static/py_doc/modelspec/programmatic/mechanisms/nmodl2.html\n",
    "* NMODL: https://www.neuron.yale.edu/neuron/static/py_doc/modelspec/programmatic/mechanisms/nmodl.html#nmodl\n",
    "\n",
    "\n"
   ]
  },
  {
   "cell_type": "code",
   "execution_count": 1,
   "metadata": {},
   "outputs": [
    {
     "name": "stdout",
     "output_type": "stream",
     "text": [
      "Creating x86_64 directory for .o files.\n",
      "\n",
      "/Users/shhong/Dropbox/CNS_course/2020/a310_cns_2020/class_4/mod.files\n",
      "ConnorStevens.mod MorrisLecar.mod adexp.mod ccstdpsyn.mod netstim2.mod wb.mod\n",
      "ConnorStevens.mod MorrisLecar.mod adexp.mod ccstdpsyn.mod netstim2.mod wb.mod\n",
      "\"/Applications/NEURON-7.7.2-py37/nrn/x86_64/bin/nocmodl\" ConnorStevens\n",
      "\"/Applications/NEURON-7.7.2-py37/nrn/x86_64/bin/nocmodl\" MorrisLecar\n",
      "\"/Applications/NEURON-7.7.2-py37/nrn/x86_64/bin/nocmodl\" adexp\n",
      "\"/Applications/NEURON-7.7.2-py37/nrn/x86_64/bin/nocmodl\" ccstdpsyn\n",
      "\"/Applications/NEURON-7.7.2-py37/nrn/share/nrn/libtool\" --tag=CC --mode=compile mpicc -DHAVE_CONFIG_H  -I. -I.. -I\"/Applications/NEURON-7.7.2-py37/nrn/include/nrn\" -I\"/Applications/NEURON-7.7.2-py37/nrn/x86_64/lib\"      -Ofast -mavx -msse4.1 -msse4.2 -Wno-return-type -Wno-implicit-function-declaration -Wno-implicit-int -fPIC -c -o MorrisLecar.lo MorrisLecar.c\n",
      "Warning: Default -72 of PARAMETER ek will be ignored and set by NEURON.\n",
      "Warning: Default 55 of PARAMETER ena will be ignored and set by NEURON.\n",
      "\"/Applications/NEURON-7.7.2-py37/nrn/share/nrn/libtool\" --tag=CC --mode=compile mpicc -DHAVE_CONFIG_H  -I. -I.. -I\"/Applications/NEURON-7.7.2-py37/nrn/include/nrn\" -I\"/Applications/NEURON-7.7.2-py37/nrn/x86_64/lib\"      -Ofast -mavx -msse4.1 -msse4.2 -Wno-return-type -Wno-implicit-function-declaration -Wno-implicit-int -fPIC -c -o ccstdpsyn.lo ccstdpsyn.c\n",
      "\"/Applications/NEURON-7.7.2-py37/nrn/share/nrn/libtool\" --tag=CC --mode=compile mpicc -DHAVE_CONFIG_H  -I. -I.. -I\"/Applications/NEURON-7.7.2-py37/nrn/include/nrn\" -I\"/Applications/NEURON-7.7.2-py37/nrn/x86_64/lib\"      -Ofast -mavx -msse4.1 -msse4.2 -Wno-return-type -Wno-implicit-function-declaration -Wno-implicit-int -fPIC -c -o adexp.lo adexp.c\n",
      "\"/Applications/NEURON-7.7.2-py37/nrn/share/nrn/libtool\" --tag=CC --mode=compile mpicc -DHAVE_CONFIG_H  -I. -I.. -I\"/Applications/NEURON-7.7.2-py37/nrn/include/nrn\" -I\"/Applications/NEURON-7.7.2-py37/nrn/x86_64/lib\"      -Ofast -mavx -msse4.1 -msse4.2 -Wno-return-type -Wno-implicit-function-declaration -Wno-implicit-int -fPIC -c -o ConnorStevens.lo ConnorStevens.c\n",
      "libtool: compile:  mpicc -DHAVE_CONFIG_H -I. -I.. -I/Applications/NEURON-7.7.2-py37/nrn/include/nrn -I/Applications/NEURON-7.7.2-py37/nrn/x86_64/lib -Ofast -mavx -msse4.1 -msse4.2 -Wno-return-type -Wno-implicit-function-declaration -Wno-implicit-int -fPIC -c ConnorStevens.c  -fno-common -DPIC -o .libs/ConnorStevens.o\n",
      "libtool: compile:  mpicc -DHAVE_CONFIG_H -I. -I.. -I/Applications/NEURON-7.7.2-py37/nrn/include/nrn -I/Applications/NEURON-7.7.2-py37/nrn/x86_64/lib -Ofast -mavx -msse4.1 -msse4.2 -Wno-return-type -Wno-implicit-function-declaration -Wno-implicit-int -fPIC -c ccstdpsyn.c  -fno-common -DPIC -o .libs/ccstdpsyn.o\n",
      "libtool: compile:  mpicc -DHAVE_CONFIG_H -I. -I.. -I/Applications/NEURON-7.7.2-py37/nrn/include/nrn -I/Applications/NEURON-7.7.2-py37/nrn/x86_64/lib -Ofast -mavx -msse4.1 -msse4.2 -Wno-return-type -Wno-implicit-function-declaration -Wno-implicit-int -fPIC -c adexp.c  -fno-common -DPIC -o .libs/adexp.o\n",
      "libtool: compile:  mpicc -DHAVE_CONFIG_H -I. -I.. -I/Applications/NEURON-7.7.2-py37/nrn/include/nrn -I/Applications/NEURON-7.7.2-py37/nrn/x86_64/lib -Ofast -mavx -msse4.1 -msse4.2 -Wno-return-type -Wno-implicit-function-declaration -Wno-implicit-int -fPIC -c MorrisLecar.c  -fno-common -DPIC -o .libs/MorrisLecar.o\n",
      "\"/Applications/NEURON-7.7.2-py37/nrn/x86_64/bin/nocmodl\" netstim2\n",
      "\"/Applications/NEURON-7.7.2-py37/nrn/x86_64/bin/nocmodl\" wb\n",
      "Notice: ARTIFICIAL_CELL is a synonym for POINT_PROCESS which hints that it\n",
      "only affects and is affected by discrete events. As such it is not\n",
      "located in a section and is not associated with an integrator\n",
      "\"/Applications/NEURON-7.7.2-py37/nrn/share/nrn/libtool\" --tag=CC --mode=compile mpicc -DHAVE_CONFIG_H  -I. -I.. -I\"/Applications/NEURON-7.7.2-py37/nrn/include/nrn\" -I\"/Applications/NEURON-7.7.2-py37/nrn/x86_64/lib\"      -Ofast -mavx -msse4.1 -msse4.2 -Wno-return-type -Wno-implicit-function-declaration -Wno-implicit-int -fPIC -c -o netstim2.lo netstim2.c\n",
      "\"/Applications/NEURON-7.7.2-py37/nrn/share/nrn/libtool\" --tag=CC --mode=compile mpicc -DHAVE_CONFIG_H  -I. -I.. -I\"/Applications/NEURON-7.7.2-py37/nrn/include/nrn\" -I\"/Applications/NEURON-7.7.2-py37/nrn/x86_64/lib\"      -Ofast -mavx -msse4.1 -msse4.2 -Wno-return-type -Wno-implicit-function-declaration -Wno-implicit-int -fPIC -c -o mod_func.lo mod_func.c\n",
      "\"/Applications/NEURON-7.7.2-py37/nrn/share/nrn/libtool\" --tag=CC --mode=compile mpicc -DHAVE_CONFIG_H  -I. -I.. -I\"/Applications/NEURON-7.7.2-py37/nrn/include/nrn\" -I\"/Applications/NEURON-7.7.2-py37/nrn/x86_64/lib\"      -Ofast -mavx -msse4.1 -msse4.2 -Wno-return-type -Wno-implicit-function-declaration -Wno-implicit-int -fPIC -c -o wb.lo wb.c\n",
      "libtool: compile:  mpicc -DHAVE_CONFIG_H -I. -I.. -I/Applications/NEURON-7.7.2-py37/nrn/include/nrn -I/Applications/NEURON-7.7.2-py37/nrn/x86_64/lib -Ofast -mavx -msse4.1 -msse4.2 -Wno-return-type -Wno-implicit-function-declaration -Wno-implicit-int -fPIC -c netstim2.c  -fno-common -DPIC -o .libs/netstim2.o\n",
      "libtool: compile:  mpicc -DHAVE_CONFIG_H -I. -I.. -I/Applications/NEURON-7.7.2-py37/nrn/include/nrn -I/Applications/NEURON-7.7.2-py37/nrn/x86_64/lib -Ofast -mavx -msse4.1 -msse4.2 -Wno-return-type -Wno-implicit-function-declaration -Wno-implicit-int -fPIC -c mod_func.c  -fno-common -DPIC -o .libs/mod_func.o\n",
      "libtool: compile:  mpicc -DHAVE_CONFIG_H -I. -I.. -I/Applications/NEURON-7.7.2-py37/nrn/include/nrn -I/Applications/NEURON-7.7.2-py37/nrn/x86_64/lib -Ofast -mavx -msse4.1 -msse4.2 -Wno-return-type -Wno-implicit-function-declaration -Wno-implicit-int -fPIC -c wb.c  -fno-common -DPIC -o .libs/wb.o\n",
      "\"/Applications/NEURON-7.7.2-py37/nrn/share/nrn/libtool\" --tag=CC --mode=link mpicc -module  -Ofast -mavx -msse4.1 -msse4.2 -Wno-return-type -Wno-implicit-function-declaration -Wno-implicit-int -fPIC   -Wl,-rpath,/opt/anaconda3/lib -headerpad_max_install_names -o libnrnmech.la -rpath \"/Applications/NEURON-7.7.2-py37/nrn/x86_64/lib\"  ConnorStevens.lo MorrisLecar.lo adexp.lo ccstdpsyn.lo netstim2.lo wb.lo mod_func.lo  -L\"/Applications/NEURON-7.7.2-py37/nrn/x86_64/lib\" -lnrnoc -loc -lmemacs -lnrnmpi -lscopmath -lsparse13 -L/opt/anaconda3//lib -lreadline -lncurses -L\"/Applications/NEURON-7.7.2-py37/nrn/x86_64/lib\" -lnrniv -livoc -lneuron_gnu -lmeschach -lsundials       \n",
      "libtool: link: mpicc -Wl,-undefined -Wl,dynamic_lookup -o .libs/libnrnmech.0.so -bundle  .libs/ConnorStevens.o .libs/MorrisLecar.o .libs/adexp.o .libs/ccstdpsyn.o .libs/netstim2.o .libs/wb.o .libs/mod_func.o   -L/Applications/NEURON-7.7.2-py37/nrn/x86_64/lib /Applications/NEURON-7.7.2-py37/nrn/x86_64/lib/libnrnoc.dylib /Applications/NEURON-7.7.2-py37/nrn/x86_64/lib/liboc.dylib -L/usr/X11/lib -lX11 /Applications/NEURON-7.7.2-py37/nrn/x86_64/lib/libmemacs.dylib /Applications/NEURON-7.7.2-py37/nrn/x86_64/lib/libnrnmpi.dylib /Applications/NEURON-7.7.2-py37/nrn/x86_64/lib/libscopmath.dylib /Applications/NEURON-7.7.2-py37/nrn/x86_64/lib/libsparse13.dylib -L/opt/anaconda3//lib -lreadline -lncurses /Applications/NEURON-7.7.2-py37/nrn/x86_64/lib/libnrniv.dylib /Applications/NEURON-7.7.2-py37/nrn/x86_64/lib/libivoc.dylib /Applications/NEURON-7.7.2-py37/nrn/x86_64/lib/libneuron_gnu.dylib /Applications/NEURON-7.7.2-py37/nrn/x86_64/lib/libmeschach.dylib /Applications/NEURON-7.7.2-py37/nrn/x86_64/lib/libsundials.dylib  -Ofast -mavx -msse4.1 -msse4.2 -Wl,-rpath -Wl,/opt/anaconda3/lib  \n",
      "libtool: link: (cd \".libs\" && rm -f \"libnrnmech.so\" && ln -s \"libnrnmech.0.so\" \"libnrnmech.so\")\n",
      "libtool: link: ( cd \".libs\" && rm -f \"libnrnmech.la\" && ln -s \"../libnrnmech.la\" \"libnrnmech.la\" )\n",
      "Successfully created x86_64/special\n"
     ]
    },
    {
     "name": "stderr",
     "output_type": "stream",
     "text": [
      "Translating ConnorStevens.mod into ConnorStevens.c\n",
      "Translating ccstdpsyn.mod into ccstdpsyn.c\n",
      "Translating adexp.mod into adexp.c\n",
      "Translating MorrisLecar.mod into MorrisLecar.c\n",
      "Thread Safe\n",
      "Thread Safe\n",
      "Thread Safe\n",
      "Thread Safe\n",
      "Translating netstim2.mod into netstim2.c\n",
      "Thread Safe\n",
      "Translating wb.mod into wb.c\n",
      "WARNING: m (a STATE) is assigned a value in a DERIVATIVE block.\n",
      " Multistep integrators (such as Runge) may not work correctly.\n",
      "Thread Safe\n",
      "ld: warning: text-based stub file /System/Library/Frameworks//OpenCL.framework/Versions/A/OpenCL.tbd and library file /System/Library/Frameworks//OpenCL.framework/Versions/A/OpenCL are out of sync. Falling back to library file for linking.\n",
      "ld: warning: text-based stub file /System/Library/Frameworks//OpenGL.framework/Versions/A/OpenGL.tbd and library file /System/Library/Frameworks//OpenGL.framework/Versions/A/OpenGL are out of sync. Falling back to library file for linking.\n",
      "ld: warning: text-based stub file /System/Library/Frameworks//IOKit.framework/Versions/A/IOKit.tbd and library file /System/Library/Frameworks//IOKit.framework/Versions/A/IOKit are out of sync. Falling back to library file for linking.\n",
      "ld: warning: text-based stub file /System/Library/Frameworks//CoreGraphics.framework/Versions/A/CoreGraphics.tbd and library file /System/Library/Frameworks//CoreGraphics.framework/Versions/A/CoreGraphics are out of sync. Falling back to library file for linking.\n",
      "ld: warning: text-based stub file /System/Library/Frameworks//Foundation.framework/Versions/C/Foundation.tbd and library file /System/Library/Frameworks//Foundation.framework/Versions/C/Foundation are out of sync. Falling back to library file for linking.\n",
      "ld: warning: text-based stub file /System/Library/Frameworks/OpenGL.framework/Versions/A/Libraries/libGFXShared.tbd and library file /System/Library/Frameworks/OpenGL.framework/Versions/A/Libraries/libGFXShared.dylib are out of sync. Falling back to library file for linking.\n",
      "ld: warning: text-based stub file /System/Library/Frameworks//IOSurface.framework/Versions/A/IOSurface.tbd and library file /System/Library/Frameworks//IOSurface.framework/Versions/A/IOSurface are out of sync. Falling back to library file for linking.\n",
      "ld: warning: text-based stub file /System/Library/Frameworks//CoreFoundation.framework/Versions/A/CoreFoundation.tbd and library file /System/Library/Frameworks//CoreFoundation.framework/Versions/A/CoreFoundation are out of sync. Falling back to library file for linking.\n",
      "ld: warning: text-based stub file /System/Library/Frameworks//ApplicationServices.framework/Versions/A/ApplicationServices.tbd and library file /System/Library/Frameworks//ApplicationServices.framework/Versions/A/ApplicationServices are out of sync. Falling back to library file for linking.\n",
      "ld: warning: text-based stub file /System/Library/Frameworks//Security.framework/Versions/A/Security.tbd and library file /System/Library/Frameworks//Security.framework/Versions/A/Security are out of sync. Falling back to library file for linking.\n",
      "ld: warning: text-based stub file /System/Library/Frameworks/OpenGL.framework/Versions/A/Libraries/libGLU.tbd and library file /System/Library/Frameworks/OpenGL.framework/Versions/A/Libraries/libGLU.dylib are out of sync. Falling back to library file for linking.\n",
      "ld: warning: text-based stub file /System/Library/Frameworks/OpenGL.framework/Versions/A/Libraries/libGL.tbd and library file /System/Library/Frameworks/OpenGL.framework/Versions/A/Libraries/libGL.dylib are out of sync. Falling back to library file for linking.\n",
      "ld: warning: text-based stub file /System/Library/Frameworks//CoreServices.framework/Versions/A/CoreServices.tbd and library file /System/Library/Frameworks//CoreServices.framework/Versions/A/CoreServices are out of sync. Falling back to library file for linking.\n",
      "ld: warning: text-based stub file /System/Library/Frameworks//DiskArbitration.framework/Versions/A/DiskArbitration.tbd and library file /System/Library/Frameworks//DiskArbitration.framework/Versions/A/DiskArbitration are out of sync. Falling back to library file for linking.\n",
      "ld: warning: text-based stub file /System/Library/Frameworks//CFNetwork.framework/Versions/A/CFNetwork.tbd and library file /System/Library/Frameworks//CFNetwork.framework/Versions/A/CFNetwork are out of sync. Falling back to library file for linking.\n",
      "ld: warning: text-based stub file /System/Library/Frameworks//SystemConfiguration.framework/Versions/A/SystemConfiguration.tbd and library file /System/Library/Frameworks//SystemConfiguration.framework/Versions/A/SystemConfiguration are out of sync. Falling back to library file for linking.\n",
      "ld: warning: text-based stub file /System/Library/Frameworks/OpenGL.framework/Versions/A/Libraries/libGLImage.tbd and library file /System/Library/Frameworks/OpenGL.framework/Versions/A/Libraries/libGLImage.dylib are out of sync. Falling back to library file for linking.\n",
      "ld: warning: text-based stub file /System/Library/PrivateFrameworks/IOAccelerator.framework/Versions/A/IOAccelerator.tbd and library file /System/Library/PrivateFrameworks/IOAccelerator.framework/Versions/A/IOAccelerator are out of sync. Falling back to library file for linking.\n",
      "ld: warning: text-based stub file /System/Library/Frameworks//CoreText.framework/Versions/A/CoreText.tbd and library file /System/Library/Frameworks//CoreText.framework/Versions/A/CoreText are out of sync. Falling back to library file for linking.\n",
      "ld: warning: text-based stub file /System/Library/Frameworks//ImageIO.framework/Versions/A/ImageIO.tbd and library file /System/Library/Frameworks//ImageIO.framework/Versions/A/ImageIO are out of sync. Falling back to library file for linking.\n",
      "ld: warning: text-based stub file /System/Library/Frameworks/ApplicationServices.framework/Versions/A/Frameworks/ATS.framework/Versions/A/ATS.tbd and library file /System/Library/Frameworks/ApplicationServices.framework/Versions/A/Frameworks/ATS.framework/Versions/A/ATS are out of sync. Falling back to library file for linking.\n",
      "ld: warning: text-based stub file /System/Library/Frameworks/ApplicationServices.framework/Versions/A/Frameworks/HIServices.framework/Versions/A/HIServices.tbd and library file /System/Library/Frameworks/ApplicationServices.framework/Versions/A/Frameworks/HIServices.framework/Versions/A/HIServices are out of sync. Falling back to library file for linking.\n",
      "ld: warning: text-based stub file /System/Library/Frameworks/ApplicationServices.framework/Versions/A/Frameworks/SpeechSynthesis.framework/Versions/A/SpeechSynthesis.tbd and library file /System/Library/Frameworks/ApplicationServices.framework/Versions/A/Frameworks/SpeechSynthesis.framework/Versions/A/SpeechSynthesis are out of sync. Falling back to library file for linking.\n",
      "ld: warning: text-based stub file /System/Library/Frameworks/CoreServices.framework/Versions/A/Frameworks/FSEvents.framework/Versions/A/FSEvents.tbd and library file /System/Library/Frameworks/CoreServices.framework/Versions/A/Frameworks/FSEvents.framework/Versions/A/FSEvents are out of sync. Falling back to library file for linking.\n",
      "ld: warning: text-based stub file /System/Library/Frameworks/CoreServices.framework/Versions/A/Frameworks/CarbonCore.framework/Versions/A/CarbonCore.tbd and library file /System/Library/Frameworks/CoreServices.framework/Versions/A/Frameworks/CarbonCore.framework/Versions/A/CarbonCore are out of sync. Falling back to library file for linking.\n",
      "ld: warning: text-based stub file /System/Library/Frameworks/CoreServices.framework/Versions/A/Frameworks/Metadata.framework/Versions/A/Metadata.tbd and library file /System/Library/Frameworks/CoreServices.framework/Versions/A/Frameworks/Metadata.framework/Versions/A/Metadata are out of sync. Falling back to library file for linking.\n",
      "ld: warning: text-based stub file /System/Library/Frameworks/CoreServices.framework/Versions/A/Frameworks/OSServices.framework/Versions/A/OSServices.tbd and library file /System/Library/Frameworks/CoreServices.framework/Versions/A/Frameworks/OSServices.framework/Versions/A/OSServices are out of sync. Falling back to library file for linking.\n",
      "ld: warning: text-based stub file /System/Library/Frameworks/CoreServices.framework/Versions/A/Frameworks/AE.framework/Versions/A/AE.tbd and library file /System/Library/Frameworks/CoreServices.framework/Versions/A/Frameworks/AE.framework/Versions/A/AE are out of sync. Falling back to library file for linking.\n",
      "ld: warning: text-based stub file /System/Library/Frameworks/CoreServices.framework/Versions/A/Frameworks/LaunchServices.framework/Versions/A/LaunchServices.tbd and library file /System/Library/Frameworks/CoreServices.framework/Versions/A/Frameworks/LaunchServices.framework/Versions/A/LaunchServices are out of sync. Falling back to library file for linking.\n",
      "ld: warning: text-based stub file /System/Library/Frameworks/CoreServices.framework/Versions/A/Frameworks/SharedFileList.framework/Versions/A/SharedFileList.tbd and library file /System/Library/Frameworks/CoreServices.framework/Versions/A/Frameworks/SharedFileList.framework/Versions/A/SharedFileList are out of sync. Falling back to library file for linking.\n",
      "ld: warning: text-based stub file /System/Library/Frameworks/OpenGL.framework/Versions/A/Libraries/libCVMSPluginSupport.tbd and library file /System/Library/Frameworks/OpenGL.framework/Versions/A/Libraries/libCVMSPluginSupport.dylib are out of sync. Falling back to library file for linking.\n",
      "ld: warning: text-based stub file /System/Library/Frameworks/ApplicationServices.framework/Versions/A/Frameworks/ATS.framework/Versions/A/Resources/libFontParser.tbd and library file /System/Library/Frameworks/ApplicationServices.framework/Versions/A/Frameworks/ATS.framework/Versions/A/Resources/libFontParser.dylib are out of sync. Falling back to library file for linking.\n",
      "ld: warning: text-based stub file /System/Library/Frameworks/ApplicationServices.framework/Versions/A/Frameworks/ATS.framework/Versions/A/Resources/libFontRegistry.tbd and library file /System/Library/Frameworks/ApplicationServices.framework/Versions/A/Frameworks/ATS.framework/Versions/A/Resources/libFontRegistry.dylib are out of sync. Falling back to library file for linking.\n",
      "ld: warning: text-based stub file /System/Library/PrivateFrameworks/MultitouchSupport.framework/Versions/A/MultitouchSupport.tbd and library file /System/Library/PrivateFrameworks/MultitouchSupport.framework/Versions/A/MultitouchSupport are out of sync. Falling back to library file for linking.\n",
      "ld: warning: text-based stub file /System/Library/Frameworks/OpenDirectory.framework/Versions/A/Frameworks/CFOpenDirectory.framework/Versions/A/CFOpenDirectory.tbd and library file /System/Library/Frameworks/OpenDirectory.framework/Versions/A/Frameworks/CFOpenDirectory.framework/Versions/A/CFOpenDirectory are out of sync. Falling back to library file for linking.\n",
      "ld: warning: text-based stub file /System/Library/Frameworks/ImageIO.framework/Versions/A/Resources/libJPEG.tbd and library file /System/Library/Frameworks/ImageIO.framework/Versions/A/Resources/libJPEG.dylib are out of sync. Falling back to library file for linking.\n",
      "ld: warning: text-based stub file /System/Library/Frameworks/ImageIO.framework/Versions/A/Resources/libTIFF.tbd and library file /System/Library/Frameworks/ImageIO.framework/Versions/A/Resources/libTIFF.dylib are out of sync. Falling back to library file for linking.\n",
      "ld: warning: text-based stub file /System/Library/Frameworks/ImageIO.framework/Versions/A/Resources/libPng.tbd and library file /System/Library/Frameworks/ImageIO.framework/Versions/A/Resources/libPng.dylib are out of sync. Falling back to library file for linking.\n",
      "ld: warning: text-based stub file /System/Library/Frameworks/ImageIO.framework/Versions/A/Resources/libGIF.tbd and library file /System/Library/Frameworks/ImageIO.framework/Versions/A/Resources/libGIF.dylib are out of sync. Falling back to library file for linking.\n",
      "ld: warning: text-based stub file /System/Library/Frameworks/ImageIO.framework/Versions/A/Resources/libJP2.tbd and library file /System/Library/Frameworks/ImageIO.framework/Versions/A/Resources/libJP2.dylib are out of sync. Falling back to library file for linking.\n",
      "ld: warning: text-based stub file /System/Library/Frameworks/ImageIO.framework/Versions/A/Resources/libRadiance.tbd and library file /System/Library/Frameworks/ImageIO.framework/Versions/A/Resources/libRadiance.dylib are out of sync. Falling back to library file for linking.\n",
      "ld: warning: text-based stub file /System/Library/Frameworks//CoreAudio.framework/Versions/A/CoreAudio.tbd and library file /System/Library/Frameworks//CoreAudio.framework/Versions/A/CoreAudio are out of sync. Falling back to library file for linking.\n",
      "ld: warning: text-based stub file /System/Library/Frameworks//AudioToolbox.framework/Versions/A/AudioToolbox.tbd and library file /System/Library/Frameworks//AudioToolbox.framework/Versions/A/AudioToolbox are out of sync. Falling back to library file for linking.\n",
      "ld: warning: text-based stub file /System/Library/Frameworks//ServiceManagement.framework/Versions/A/ServiceManagement.tbd and library file /System/Library/Frameworks//ServiceManagement.framework/Versions/A/ServiceManagement are out of sync. Falling back to library file for linking.\n",
      "ld: warning: text-based stub file /System/Library/Frameworks/OpenGL.framework/Versions/A/Libraries/libCoreVMClient.tbd and library file /System/Library/Frameworks/OpenGL.framework/Versions/A/Libraries/libCoreVMClient.dylib are out of sync. Falling back to library file for linking.\n",
      "ld: warning: text-based stub file /System/Library/PrivateFrameworks/APFS.framework/Versions/A/APFS.tbd and library file /System/Library/PrivateFrameworks/APFS.framework/Versions/A/APFS are out of sync. Falling back to library file for linking.\n"
     ]
    }
   ],
   "source": [
    "%%bash\n",
    "\n",
    "# Don't forget compiling mod files.\n",
    "\n",
    "cd mod.files\n",
    "nrnivmodl"
   ]
  },
  {
   "cell_type": "markdown",
   "metadata": {},
   "source": [
    "# Synaptic plasticity\n",
    "\n",
    "Here we show some examples of implementing synaptic plasticity in a network model. We will mainly use the model of spike time-dependent plasticity by Clopath et al. (Nat. Neurosci, 2010)."
   ]
  },
  {
   "cell_type": "code",
   "execution_count": 2,
   "metadata": {},
   "outputs": [
    {
     "data": {
      "text/plain": [
       "True"
      ]
     },
     "execution_count": 2,
     "metadata": {},
     "output_type": "execute_result"
    }
   ],
   "source": [
    "import numpy as np\n",
    "import matplotlib.pyplot as plt\n",
    "from neuron import h, gui, load_mechanisms\n",
    "load_mechanisms('./mod.files')"
   ]
  },
  {
   "cell_type": "markdown",
   "metadata": {},
   "source": [
    "As the Clopath et al model was implemented with an adaptive exponential integrate-and-fire (AdEX) model, here we first make a cell model, as we have seen before. Note that we add two types of synapses, one non-plastic and the other one based on the Clopath model. The former will be used for triggering spiking in this neuron, while the latter will receive much weaker presynaptic inputs."
   ]
  },
  {
   "cell_type": "code",
   "execution_count": 3,
   "metadata": {},
   "outputs": [],
   "source": [
    "from cell_template import Cell\n",
    "\n",
    "class AdEx(Cell):\n",
    "    def create_sections(self):\n",
    "        self.soma = h.Section(name=\"soma\", cell=self)\n",
    "\n",
    "    def build_topology(self):\n",
    "        pass\n",
    "    \n",
    "    def build_subsets(self):\n",
    "        pass\n",
    "\n",
    "    def define_geometry(self):\n",
    "        self.soma.diam = 12.4\n",
    "        self.soma.L = 721\n",
    "        self.area_cm2 = (self.soma.diam*self.soma.L*h.PI*1e-8)\n",
    "        \n",
    "    def define_biophysics(self):\n",
    "        self.soma.insert('pas')\n",
    "        self.soma.g_pas = 30e-9/self.area_cm2\n",
    "        self.soma.e_pas = -70.6\n",
    "        self.adexp = h.AdExpIF(0.5, sec=self.soma)\n",
    "\n",
    "    def create_synapses(self):\n",
    "        self.synlist.append(h.Exp2Syn(0.5, sec=self.soma))\n",
    "        self.synlist[-1].tau1 = 0.001\n",
    "        self.synlist[-1].tau2 = 0.2\n",
    "\n",
    "        self.synlist.append(h.CCSTDPSyn(0.5, sec=self.soma))\n",
    "    "
   ]
  },
  {
   "cell_type": "markdown",
   "metadata": {},
   "source": [
    "Then, we create a cell, two external inputs that connect to the synapses."
   ]
  },
  {
   "cell_type": "code",
   "execution_count": 4,
   "metadata": {},
   "outputs": [],
   "source": [
    "cell1 = AdEx()\n",
    "\n",
    "stim_post = h.NetStim(0.5, sec=cell1.soma)\n",
    "nc_post = h.NetCon(stim_post, cell1.synlist[0])\n",
    "\n",
    "stim_pre = h.NetStim(0.5, sec=cell1.soma)\n",
    "nc_pre = h.NetCon(stim_pre, cell1.synlist[1])"
   ]
  },
  {
   "cell_type": "markdown",
   "metadata": {},
   "source": [
    "We will simulate the cell according to a protocol to reproduce Fig. 2a in Clopath et al. (2010). 60 pulse stimuli will be delivered at 20 Hz with with a certain time delay between `stim_post` and `stim_pre`."
   ]
  },
  {
   "cell_type": "code",
   "execution_count": 5,
   "metadata": {},
   "outputs": [],
   "source": [
    "# We use an adaptive intergrator for higher numerical accuracy that is required to simulate an AdEx model accurately.\n",
    "cvode = h.CVode()\n",
    "cvode.active(1)\n",
    "\n",
    "\n",
    "def run_with_delay(delay):\n",
    "    h.v_init = -70.6\n",
    "    h.tstop = 60*50+100\n",
    "\n",
    "    stim_post.start = 100    # Everything starts at t = 100 ms\n",
    "    stim_post.number = 60    # 60 pulses\n",
    "    stim_post.interval = 50  # 20 Hz\n",
    "    stim_post.noise = 0      # Regular firing\n",
    "\n",
    "    nc_post.delay = 0.01     \n",
    "    nc_post.weight[0] = 1.5  # Make a very strong synaptic to make the neuron fire reliably\n",
    "\n",
    "    stim_pre.start = 100 - delay\n",
    "    stim_pre.number = 60\n",
    "    stim_pre.interval = 50\n",
    "    stim_pre.noise = 0\n",
    "\n",
    "    nc_pre.delay = 2\n",
    "    nc_pre.weight[0] = 2e-3    # 2 pS initial weight (synaptic conductance)\n",
    "    w0 = nc_pre.weight[0]      # Here we record what we start from\n",
    "    h.init()\n",
    "    h.run()\n",
    "    \n",
    "    return nc_pre.weight[0]/w0 # Return a relative strength of the synapse\n"
   ]
  },
  {
   "cell_type": "code",
   "execution_count": 6,
   "metadata": {},
   "outputs": [
    {
     "name": "stdout",
     "output_type": "stream",
     "text": [
      "Changed dt\n",
      "Changed dt\n",
      "Changed dt\n",
      "Changed dt\n",
      "Changed dt\n",
      "Changed dt\n",
      "Changed dt\n",
      "Changed dt\n",
      "Changed dt\n",
      "Changed dt\n",
      "Changed dt\n",
      "Changed dt\n",
      "Changed dt\n",
      "Changed dt\n",
      "Changed dt\n",
      "Changed dt\n",
      "Changed dt\n",
      "Changed dt\n",
      "Changed dt\n",
      "Changed dt\n",
      "Changed dt\n",
      "Changed dt\n",
      "Changed dt\n",
      "Changed dt\n",
      "Changed dt\n"
     ]
    },
    {
     "data": {
      "text/plain": [
       "[<matplotlib.lines.Line2D at 0x11a3fba50>,\n",
       " <matplotlib.lines.Line2D at 0x11c047a90>]"
      ]
     },
     "execution_count": 6,
     "metadata": {},
     "output_type": "execute_result"
    },
    {
     "data": {
      "image/png": "[encoded data removed]",
      "text/plain": [
       "<Figure size 432x288 with 1 Axes>"
      ]
     },
     "metadata": {
      "needs_background": "light"
     },
     "output_type": "display_data"
    }
   ],
   "source": [
    "delays = np.arange(-15, 16, 1)\n",
    "delays = [d for d in delays if np.abs(d)>2]\n",
    "delg = [run_with_delay(d) for d in delays]\n",
    "\n",
    "_, ax = plt.subplots()\n",
    "ax.plot(delays, delg, 'o-', delays, np.ones_like(delays))\n",
    "# ax.set(ylim=[0.5, 1.5])"
   ]
  },
  {
   "cell_type": "markdown",
   "metadata": {},
   "source": [
    "# Emergence of connectivity from network activity\n",
    "\n",
    "Here we will construct and run a network simulation that is supposed to reproduce Fig. 4a in Clopath et al. (2010). After resetting the kernel, we redefine `AdEx`."
   ]
  },
  {
   "cell_type": "code",
   "execution_count": 4,
   "metadata": {},
   "outputs": [],
   "source": [
    "import numpy as np\n",
    "import matplotlib.pyplot as plt\n",
    "from neuron import h, gui, load_mechanisms\n",
    "load_mechanisms('./mod.files')\n",
    "\n",
    "from cell_template import Cell\n",
    "\n",
    "cvode = h.CVode()\n",
    "cvode.active(1)\n",
    "\n",
    "\n",
    "class AdEx(Cell):\n",
    "    def create_sections(self):\n",
    "        self.soma = h.Section(name=\"soma\", cell=self)\n",
    "\n",
    "    def build_topology(self):\n",
    "        pass\n",
    "    \n",
    "    def build_subsets(self):\n",
    "        pass\n",
    "\n",
    "    def define_geometry(self):\n",
    "        self.soma.diam = 12.4\n",
    "        self.soma.L = 721    \n",
    "        self.area_cm2 = (self.soma.diam*self.soma.L*h.PI*1e-8)\n",
    "        \n",
    "    def define_biophysics(self):\n",
    "        self.soma.insert('pas')\n",
    "        self.soma.g_pas = 30e-9/self.area_cm2\n",
    "        self.soma.e_pas = -70.6\n",
    "        self.adexp = h.AdExpIF(0.5, sec=self.soma)\n",
    "\n",
    "    def create_synapses(self):\n",
    "        self.synlist.append(h.Exp2Syn(0.5, sec=self.soma))\n",
    "        self.synlist[-1].tau1 = 0.001\n",
    "        self.synlist[-1].tau2 = 0.2\n",
    "\n",
    "        self.synlist.append(h.CCSTDPSyn(0.5, sec=self.soma))\n",
    "    "
   ]
  },
  {
   "cell_type": "markdown",
   "metadata": {},
   "source": [
    "We build our model with `SerialNetManager`: first, we create a network manager for ten neurons, and register an AdEx model for each global id (gid)."
   ]
  },
  {
   "cell_type": "code",
   "execution_count": 5,
   "metadata": {},
   "outputs": [],
   "source": [
    "from net_manager import SerialNetManager\n",
    "\n",
    "Ncells = 10\n",
    "\n",
    "pnm = SerialNetManager(Ncells)\n",
    "for i in range(Ncells):\n",
    "    pnm.register_cell(i, AdEx())\n"
   ]
  },
  {
   "cell_type": "markdown",
   "metadata": {},
   "source": [
    "We connect each cell by an external input that is stimulated by a random spike generator."
   ]
  },
  {
   "cell_type": "code",
   "execution_count": 6,
   "metadata": {},
   "outputs": [],
   "source": [
    "ics_ext = []\n",
    "ncs_ext = []\n",
    "for i in range(Ncells):\n",
    "    ic = h.NetStimFD(pnm.gid2cell[i].soma(0.5)) # pnm.gid2cell[i] gives you a cell object with gid=i\n",
    "    ic.noise = 1\n",
    "    ic.start = 0\n",
    "    ic.duration = 10000\n",
    "    ic.seed(i+1223)\n",
    "    \n",
    "    nc = h.NetCon(ic, pnm.gid2cell[i].synlist[0])\n",
    "    nc.delay = 0.01\n",
    "    nc.weight[0] = 1.5\n",
    "    ics_ext.append(ic)\n",
    "    ncs_ext.append(nc)\n"
   ]
  },
  {
   "cell_type": "markdown",
   "metadata": {},
   "source": [
    "Now, neurons with gid=0...5 will be driven at 2 Hz, while neurons with gid=6...9 will fire at 30 Hz."
   ]
  },
  {
   "cell_type": "code",
   "execution_count": 7,
   "metadata": {},
   "outputs": [],
   "source": [
    "for i in range(6):\n",
    "    ics_ext[i].interval = 1000/2\n",
    "\n",
    "for i in range(6, 10):\n",
    "    ics_ext[i].interval = 1000/30\n"
   ]
  },
  {
   "cell_type": "markdown",
   "metadata": {},
   "source": [
    "Let's run the model!"
   ]
  },
  {
   "cell_type": "code",
   "execution_count": 8,
   "metadata": {},
   "outputs": [
    {
     "data": {
      "image/png": "[encoded data removed]",
      "text/plain": [
       "<Figure size 432x288 with 1 Axes>"
      ]
     },
     "metadata": {
      "needs_background": "light"
     },
     "output_type": "display_data"
    }
   ],
   "source": [
    "def run():\n",
    "    pnm.want_all_spikes() # Record spikes from all the cells\n",
    "\n",
    "    h.tstop = 10000\n",
    "    h.init()\n",
    "    pnm.run()\n",
    "\n",
    "    _, ax = plt.subplots()\n",
    "    ax.plot(pnm.spikevec, pnm.idvec, '.k')\n",
    "    ax.set(xlabel='Time (ms)', ylabel='Neuron', xlim=[0, h.tstop])\n",
    "\n",
    "run()"
   ]
  },
  {
   "cell_type": "markdown",
   "metadata": {},
   "source": [
    "Since the simulation runs well without connections, we build a baseline connectivity, which will be all-to-all with the same synaptic strength."
   ]
  },
  {
   "cell_type": "code",
   "execution_count": 9,
   "metadata": {},
   "outputs": [],
   "source": [
    "pnm.nc_reset()\n",
    "gsyn0 = 2e-3  # 2 nS\n",
    "\n",
    "for i in range(Ncells):\n",
    "    for j in range(Ncells):\n",
    "        if i!=j:\n",
    "            pnm.nc_append(i, j, 1, gsyn0, 0.1, thresh=0) "
   ]
  },
  {
   "cell_type": "markdown",
   "metadata": {},
   "source": [
    "Here we make a simple function to display the connectivity,"
   ]
  },
  {
   "cell_type": "code",
   "execution_count": 10,
   "metadata": {},
   "outputs": [
    {
     "data": {
      "image/png": "[encoded data removed]",
      "text/plain": [
       "<Figure size 864x360 with 3 Axes>"
      ]
     },
     "metadata": {
      "needs_background": "light"
     },
     "output_type": "display_data"
    }
   ],
   "source": [
    "def show_connections():\n",
    "    conn_mat = np.zeros((Ncells, Ncells))\n",
    "    for i in range(Ncells):\n",
    "        for j in range(Ncells):\n",
    "            if i!=j:\n",
    "                conn_mat[i, j] = pnm.netcons[(i, j, 1)].weight[0]\n",
    "\n",
    "    _, ax = plt.subplots(ncols=2, figsize=(12,5))\n",
    "    c = ax[0].pcolormesh(conn_mat)\n",
    "    plt.colorbar(c, ax=ax[0])\n",
    "    _ = ax[1].hist(conn_mat.ravel(), 50)\n",
    "    \n",
    "    return conn_mat\n",
    "\n",
    "conn_mat = show_connections()"
   ]
  },
  {
   "cell_type": "markdown",
   "metadata": {},
   "source": [
    "Let's run the model again, and check the connections."
   ]
  },
  {
   "cell_type": "code",
   "execution_count": 11,
   "metadata": {},
   "outputs": [
    {
     "name": "stdout",
     "output_type": "stream",
     "text": [
      "Changed dt\n"
     ]
    },
    {
     "data": {
      "image/png": "[encoded data removed]",
      "text/plain": [
       "<Figure size 432x288 with 1 Axes>"
      ]
     },
     "metadata": {
      "needs_background": "light"
     },
     "output_type": "display_data"
    },
    {
     "data": {
      "image/png": "[encoded data removed]",
      "text/plain": [
       "<Figure size 864x360 with 3 Axes>"
      ]
     },
     "metadata": {
      "needs_background": "light"
     },
     "output_type": "display_data"
    }
   ],
   "source": [
    "run()\n",
    "conn_mat = show_connections()"
   ]
  }
 ],
 "metadata": {
  "@webio": {
   "lastCommId": null,
   "lastKernelId": null
  },
  "kernelspec": {
   "display_name": "Python 3",
   "language": "python",
   "name": "python3"
  },
  "language_info": {
   "codemirror_mode": {
    "name": "ipython",
    "version": 3
   },
   "file_extension": ".py",
   "mimetype": "text/x-python",
   "name": "python",
   "nbconvert_exporter": "python",
   "pygments_lexer": "ipython3",
   "version": "3.7.6"
  }
 },
 "nbformat": 4,
 "nbformat_minor": 4
}
