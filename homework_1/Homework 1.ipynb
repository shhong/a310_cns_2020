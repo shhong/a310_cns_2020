{
 "cells": [
  {
   "cell_type": "markdown",
   "metadata": {},
   "source": [
    "# Homework 1 (Due: Feb 25, 2020)"
   ]
  },
  {
   "cell_type": "markdown",
   "metadata": {},
   "source": [
    "## 1. Ornstein-Uhlenbeck process\n",
    "\n",
    "The current/conductance input to a neuron *in vivo* is often modeled as a stochastic process with Gaussian statistics. However, pure Gaussian white noise is unfeasible since it lacks temporal correlation seen in experimental data, and therefore the time series called Ornstein-Uhlenbeck (OU) process is widely used. It is defined by\n",
    "\n",
    "$$\n",
    "X(t+1) = X(t) - \\alpha \\cdot X(t) + \\sigma \\zeta(t),\n",
    "$$\n",
    "\n",
    "where $\\alpha$ and $\\sigma$ are numerical parameters, and $\\zeta(t)$ is Gaussian white noise, sampled from a standard normal distribution at each time step.\n",
    "\n",
    "1. Write a Python function to generate an OU process from given parameters alpha and sigma. The function should also return the white noise ($\\zeta$) used. Generate an OU process and white noise time series some $\\alpha \\leq 0.05$ and $\\sigma$, plot them side by side.\n",
    "2. For fixed $\\sigma$, plot how the variance of an OU process changes with $\\alpha$. What seems to be the relationship?\n",
    "\n",
    "**Hint**: For the white noise, you can use a random number generator in NEURON:\n",
    "\n",
    "```python\n",
    "r = h.Random() # Create a random number generator object\n",
    "zeta = r.normal(0, 1) # Generate one Gaussian random number with mean=0 and sigma=1\n",
    "```\n",
    "Then, `zeta` will be a random number sampled from the standard normal distribution.\n"
   ]
  },
  {
   "cell_type": "markdown",
   "metadata": {},
   "source": [
    "## 2. Passive cable\n",
    "\n",
    "Following an example in the NEURON Tutorial 1, create a model of an axon with the following parameters: \n",
    "\n",
    "* Diameter (`diam`) = 1 um and length (`L`) = 1000 um,\n",
    "* Capacitance per area (`cm`) = 1 uF/cm<sup>2</sup>,\n",
    "* Passive mechanism (`pas`) with the conductance per area = 1×10<sup>-4</sup> S/cm<sup>2</sup>. Remember the conductance variable for this mechanism is `axon.g_pas`.\n",
    "* A current clamp electrode (`ic`) near one end (e.g., `x`≈0) that injects 50 pA for a sufficently long time (>200 ms).\n",
    "\n",
    "\n",
    "1. Assume that the axon is approximately an infinite cable, and compute its theoretical membrane time constant and space constant.\n",
    "2. Run the simulation and measure the membrane time constant from the simulated data. How does the measured time constant compare with the theoretical value?\n",
    "3. **(Fig. 2.5)** Draw the input resistance vs cable length curve as Fig. 2.5 in the textbook. Please make sure that the cable has the sufficiently large `nseg` to get a quasi-smooth curve. Here, you should be able to get one of two curves quite easily, since cables in NEURON have sealed-ends. Then, how can you draw the other one?"
   ]
  },
  {
   "cell_type": "markdown",
   "metadata": {},
   "source": [
    "## 3. Passive pyramidal neuron\n",
    "\n",
    "By using the cortical pyramidal neuron model in the NEURON tutorial 2, answer the following questions:\n",
    "\n",
    "1. Explain how you can measure the transfer resistance (Equation 3.19 in the textbook) between two points in a neuron, by using the current clamp and voltage measurement.\n",
    "2. Measure the transfer resistance between two locations of your choice, and verify the symmetry (Equation 3.27), positivity (Equation 3.28), and transitivy (Equation 3.29) property.\n",
    "3. **(Fig. 3.15)** Make a sharp current injection (about 1ms duration) at one distal point in a dendrite, and measure the voltage at `soma` and the injection point, to qualitatively replicate Fig. 3.15.\n"
   ]
  }
 ],
 "metadata": {
  "kernel_info": {
   "name": "python3"
  },
  "kernelspec": {
   "display_name": "Python 3",
   "language": "python",
   "name": "python3"
  },
  "language_info": {
   "codemirror_mode": {
    "name": "ipython",
    "version": 3
   },
   "file_extension": ".py",
   "mimetype": "text/x-python",
   "name": "python",
   "nbconvert_exporter": "python",
   "pygments_lexer": "ipython3",
   "version": "3.7.6"
  },
  "nteract": {
   "version": "0.21.0"
  }
 },
 "nbformat": 4,
 "nbformat_minor": 4
}
